{
 "cells": [
  {
   "cell_type": "markdown",
   "id": "0071a03d",
   "metadata": {},
   "source": [
    "# Forecasting - CocaCola Sales"
   ]
  },
  {
   "cell_type": "markdown",
   "id": "da2f7ff9",
   "metadata": {},
   "source": [
    "### Forecast the CocaCola Sales. \n",
    " Prepare a document for each model explaining how many dummy variables you have created and RMSE value for each model. Finally which model you will use for Forecasting."
   ]
  },
  {
   "cell_type": "markdown",
   "id": "e2cf5410",
   "metadata": {},
   "source": [
    "### Step-1 : Import libraries"
   ]
  },
  {
   "cell_type": "code",
   "execution_count": 1,
   "id": "bf73d1cb",
   "metadata": {
    "ExecuteTime": {
     "end_time": "2022-12-07T06:44:53.356369Z",
     "start_time": "2022-12-07T06:44:41.713816Z"
    }
   },
   "outputs": [],
   "source": [
    "import pandas as pd\n",
    "import numpy as np\n",
    "import matplotlib.pyplot as plt\n",
    "import seaborn as sb\n",
    "from numpy import log\n",
    "from numpy import sqrt\n",
    "from sklearn.model_selection import train_test_split\n",
    "from scipy import stats\n",
    "import statsmodels.api as sm\n",
    "import statsmodels.formula.api as smf\n",
    "from statsmodels.tsa.arima.model import ARIMA\n",
    "from statsmodels.graphics.tsaplots import plot_predict\n",
    "from sklearn.metrics import mean_squared_error\n",
    "from pandas.plotting import lag_plot\n",
    "from statsmodels.tsa.seasonal import seasonal_decompose\n",
    "from statsmodels.tsa.holtwinters import SimpleExpSmoothing # SES\n",
    "from statsmodels.tsa.holtwinters import Holt # Holts Exponential Smoothing\n",
    "from statsmodels.tsa.holtwinters import ExponentialSmoothing  \n",
    "import statsmodels.graphics.tsaplots as tsa_plots\n",
    "sb.set_style('darkgrid')\n",
    "import warnings as warnings\n",
    "warnings.filterwarnings(\"ignore\")"
   ]
  },
  {
   "cell_type": "markdown",
   "id": "23e5d914",
   "metadata": {},
   "source": [
    "### Step-2 : Descriptive analysis"
   ]
  },
  {
   "cell_type": "markdown",
   "id": "9f55ab4f",
   "metadata": {},
   "source": [
    "### Step-2.1 : Working with Dataset"
   ]
  },
  {
   "cell_type": "markdown",
   "id": "30024290",
   "metadata": {},
   "source": [
    "#### Loading the Dataset"
   ]
  },
  {
   "cell_type": "code",
   "execution_count": 2,
   "id": "826ed971",
   "metadata": {
    "ExecuteTime": {
     "end_time": "2022-12-07T06:44:54.820693Z",
     "start_time": "2022-12-07T06:44:53.365016Z"
    }
   },
   "outputs": [],
   "source": [
    "# Importing the dataset\n",
    "cc_data = pd.read_excel(\"CocaCola_Sales_Rawdata.xlsx\")"
   ]
  },
  {
   "cell_type": "markdown",
   "id": "c5e8b654",
   "metadata": {},
   "source": [
    "#### Exploring the dataset"
   ]
  },
  {
   "cell_type": "code",
   "execution_count": 3,
   "id": "48a3e928",
   "metadata": {
    "ExecuteTime": {
     "end_time": "2022-12-07T06:44:54.868341Z",
     "start_time": "2022-12-07T06:44:54.825529Z"
    }
   },
   "outputs": [
    {
     "data": {
      "text/html": [
       "<div>\n",
       "<style scoped>\n",
       "    .dataframe tbody tr th:only-of-type {\n",
       "        vertical-align: middle;\n",
       "    }\n",
       "\n",
       "    .dataframe tbody tr th {\n",
       "        vertical-align: top;\n",
       "    }\n",
       "\n",
       "    .dataframe thead th {\n",
       "        text-align: right;\n",
       "    }\n",
       "</style>\n",
       "<table border=\"1\" class=\"dataframe\">\n",
       "  <thead>\n",
       "    <tr style=\"text-align: right;\">\n",
       "      <th></th>\n",
       "      <th>Quarter</th>\n",
       "      <th>Sales</th>\n",
       "    </tr>\n",
       "  </thead>\n",
       "  <tbody>\n",
       "    <tr>\n",
       "      <th>0</th>\n",
       "      <td>Q1_86</td>\n",
       "      <td>1734.827000</td>\n",
       "    </tr>\n",
       "    <tr>\n",
       "      <th>1</th>\n",
       "      <td>Q2_86</td>\n",
       "      <td>2244.960999</td>\n",
       "    </tr>\n",
       "    <tr>\n",
       "      <th>2</th>\n",
       "      <td>Q3_86</td>\n",
       "      <td>2533.804993</td>\n",
       "    </tr>\n",
       "    <tr>\n",
       "      <th>3</th>\n",
       "      <td>Q4_86</td>\n",
       "      <td>2154.962997</td>\n",
       "    </tr>\n",
       "    <tr>\n",
       "      <th>4</th>\n",
       "      <td>Q1_87</td>\n",
       "      <td>1547.818996</td>\n",
       "    </tr>\n",
       "    <tr>\n",
       "      <th>5</th>\n",
       "      <td>Q2_87</td>\n",
       "      <td>2104.411995</td>\n",
       "    </tr>\n",
       "    <tr>\n",
       "      <th>6</th>\n",
       "      <td>Q3_87</td>\n",
       "      <td>2014.362999</td>\n",
       "    </tr>\n",
       "    <tr>\n",
       "      <th>7</th>\n",
       "      <td>Q4_87</td>\n",
       "      <td>1991.746998</td>\n",
       "    </tr>\n",
       "    <tr>\n",
       "      <th>8</th>\n",
       "      <td>Q1_88</td>\n",
       "      <td>1869.049999</td>\n",
       "    </tr>\n",
       "    <tr>\n",
       "      <th>9</th>\n",
       "      <td>Q2_88</td>\n",
       "      <td>2313.631996</td>\n",
       "    </tr>\n",
       "  </tbody>\n",
       "</table>\n",
       "</div>"
      ],
      "text/plain": [
       "  Quarter        Sales\n",
       "0   Q1_86  1734.827000\n",
       "1   Q2_86  2244.960999\n",
       "2   Q3_86  2533.804993\n",
       "3   Q4_86  2154.962997\n",
       "4   Q1_87  1547.818996\n",
       "5   Q2_87  2104.411995\n",
       "6   Q3_87  2014.362999\n",
       "7   Q4_87  1991.746998\n",
       "8   Q1_88  1869.049999\n",
       "9   Q2_88  2313.631996"
      ]
     },
     "execution_count": 3,
     "metadata": {},
     "output_type": "execute_result"
    }
   ],
   "source": [
    "# Displaying first ten records\n",
    "cc_data.head(10)"
   ]
  },
  {
   "cell_type": "code",
   "execution_count": 4,
   "id": "9530e992",
   "metadata": {
    "ExecuteTime": {
     "end_time": "2022-12-07T06:44:54.900355Z",
     "start_time": "2022-12-07T06:44:54.872798Z"
    }
   },
   "outputs": [
    {
     "data": {
      "text/plain": [
       "(42, 2)"
      ]
     },
     "execution_count": 4,
     "metadata": {},
     "output_type": "execute_result"
    }
   ],
   "source": [
    "# Shape of the data\n",
    "cc_data.shape"
   ]
  },
  {
   "cell_type": "code",
   "execution_count": 5,
   "id": "85ecb66a",
   "metadata": {
    "ExecuteTime": {
     "end_time": "2022-12-07T06:44:54.931856Z",
     "start_time": "2022-12-07T06:44:54.900355Z"
    },
    "scrolled": true
   },
   "outputs": [
    {
     "data": {
      "text/html": [
       "<div>\n",
       "<style scoped>\n",
       "    .dataframe tbody tr th:only-of-type {\n",
       "        vertical-align: middle;\n",
       "    }\n",
       "\n",
       "    .dataframe tbody tr th {\n",
       "        vertical-align: top;\n",
       "    }\n",
       "\n",
       "    .dataframe thead th {\n",
       "        text-align: right;\n",
       "    }\n",
       "</style>\n",
       "<table border=\"1\" class=\"dataframe\">\n",
       "  <thead>\n",
       "    <tr style=\"text-align: right;\">\n",
       "      <th></th>\n",
       "      <th>Sales</th>\n",
       "    </tr>\n",
       "  </thead>\n",
       "  <tbody>\n",
       "    <tr>\n",
       "      <th>count</th>\n",
       "      <td>42.000000</td>\n",
       "    </tr>\n",
       "    <tr>\n",
       "      <th>mean</th>\n",
       "      <td>2994.353308</td>\n",
       "    </tr>\n",
       "    <tr>\n",
       "      <th>std</th>\n",
       "      <td>977.930896</td>\n",
       "    </tr>\n",
       "    <tr>\n",
       "      <th>min</th>\n",
       "      <td>1547.818996</td>\n",
       "    </tr>\n",
       "    <tr>\n",
       "      <th>25%</th>\n",
       "      <td>2159.714247</td>\n",
       "    </tr>\n",
       "    <tr>\n",
       "      <th>50%</th>\n",
       "      <td>2782.376999</td>\n",
       "    </tr>\n",
       "    <tr>\n",
       "      <th>75%</th>\n",
       "      <td>3609.250000</td>\n",
       "    </tr>\n",
       "    <tr>\n",
       "      <th>max</th>\n",
       "      <td>5253.000000</td>\n",
       "    </tr>\n",
       "  </tbody>\n",
       "</table>\n",
       "</div>"
      ],
      "text/plain": [
       "             Sales\n",
       "count    42.000000\n",
       "mean   2994.353308\n",
       "std     977.930896\n",
       "min    1547.818996\n",
       "25%    2159.714247\n",
       "50%    2782.376999\n",
       "75%    3609.250000\n",
       "max    5253.000000"
      ]
     },
     "execution_count": 5,
     "metadata": {},
     "output_type": "execute_result"
    }
   ],
   "source": [
    "# Summary of the data\n",
    "cc_data.describe()"
   ]
  },
  {
   "cell_type": "code",
   "execution_count": 6,
   "id": "fab60c59",
   "metadata": {
    "ExecuteTime": {
     "end_time": "2022-12-07T06:44:54.995064Z",
     "start_time": "2022-12-07T06:44:54.936705Z"
    }
   },
   "outputs": [
    {
     "name": "stdout",
     "output_type": "stream",
     "text": [
      "<class 'pandas.core.frame.DataFrame'>\n",
      "RangeIndex: 42 entries, 0 to 41\n",
      "Data columns (total 2 columns):\n",
      " #   Column   Non-Null Count  Dtype  \n",
      "---  ------   --------------  -----  \n",
      " 0   Quarter  42 non-null     object \n",
      " 1   Sales    42 non-null     float64\n",
      "dtypes: float64(1), object(1)\n",
      "memory usage: 800.0+ bytes\n"
     ]
    }
   ],
   "source": [
    "# Check the data types\n",
    "cc_data.info()"
   ]
  },
  {
   "cell_type": "markdown",
   "id": "8fc274b3",
   "metadata": {},
   "source": [
    "### Step-2.2 : Handling missing values"
   ]
  },
  {
   "cell_type": "code",
   "execution_count": 7,
   "id": "d1afc980",
   "metadata": {
    "ExecuteTime": {
     "end_time": "2022-12-07T06:44:55.026367Z",
     "start_time": "2022-12-07T06:44:55.003113Z"
    }
   },
   "outputs": [
    {
     "data": {
      "text/plain": [
       "Quarter    0\n",
       "Sales      0\n",
       "dtype: int64"
      ]
     },
     "execution_count": 7,
     "metadata": {},
     "output_type": "execute_result"
    }
   ],
   "source": [
    "# Check for Null values\n",
    "cc_data.isnull().sum()"
   ]
  },
  {
   "cell_type": "code",
   "execution_count": 8,
   "id": "b4fa93bf",
   "metadata": {
    "ExecuteTime": {
     "end_time": "2022-12-07T06:44:55.058198Z",
     "start_time": "2022-12-07T06:44:55.032377Z"
    }
   },
   "outputs": [
    {
     "data": {
      "text/plain": [
       "(0, 2)"
      ]
     },
     "execution_count": 8,
     "metadata": {},
     "output_type": "execute_result"
    }
   ],
   "source": [
    "# Check for duplicate values\n",
    "cc_data[cc_data.duplicated()].shape"
   ]
  },
  {
   "cell_type": "code",
   "execution_count": 9,
   "id": "953f27b7",
   "metadata": {
    "ExecuteTime": {
     "end_time": "2022-12-07T06:44:55.090055Z",
     "start_time": "2022-12-07T06:44:55.062975Z"
    },
    "scrolled": true
   },
   "outputs": [
    {
     "data": {
      "text/html": [
       "<div>\n",
       "<style scoped>\n",
       "    .dataframe tbody tr th:only-of-type {\n",
       "        vertical-align: middle;\n",
       "    }\n",
       "\n",
       "    .dataframe tbody tr th {\n",
       "        vertical-align: top;\n",
       "    }\n",
       "\n",
       "    .dataframe thead th {\n",
       "        text-align: right;\n",
       "    }\n",
       "</style>\n",
       "<table border=\"1\" class=\"dataframe\">\n",
       "  <thead>\n",
       "    <tr style=\"text-align: right;\">\n",
       "      <th></th>\n",
       "      <th>Quarter</th>\n",
       "      <th>Sales</th>\n",
       "    </tr>\n",
       "  </thead>\n",
       "  <tbody>\n",
       "  </tbody>\n",
       "</table>\n",
       "</div>"
      ],
      "text/plain": [
       "Empty DataFrame\n",
       "Columns: [Quarter, Sales]\n",
       "Index: []"
      ]
     },
     "execution_count": 9,
     "metadata": {},
     "output_type": "execute_result"
    }
   ],
   "source": [
    "cc_data[cc_data.duplicated()]"
   ]
  },
  {
   "cell_type": "code",
   "execution_count": 10,
   "id": "c85d1898",
   "metadata": {
    "ExecuteTime": {
     "end_time": "2022-12-07T06:44:55.715451Z",
     "start_time": "2022-12-07T06:44:55.099136Z"
    },
    "scrolled": true
   },
   "outputs": [
    {
     "data": {
      "text/plain": [
       "<AxesSubplot:>"
      ]
     },
     "execution_count": 10,
     "metadata": {},
     "output_type": "execute_result"
    },
    {
     "data": {
      "image/png": "[encoded data removed]",
      "text/plain": [
       "<Figure size 432x288 with 1 Axes>"
      ]
     },
     "metadata": {},
     "output_type": "display_data"
    }
   ],
   "source": [
    "cc_data.Sales.plot()"
   ]
  },
  {
   "cell_type": "markdown",
   "id": "395fbf5c",
   "metadata": {},
   "source": [
    "### Step-3 : Feature Engineering"
   ]
  },
  {
   "cell_type": "code",
   "execution_count": 11,
   "id": "21780b7d",
   "metadata": {
    "ExecuteTime": {
     "end_time": "2022-12-07T06:44:55.778337Z",
     "start_time": "2022-12-07T06:44:55.718492Z"
    },
    "scrolled": true
   },
   "outputs": [
    {
     "data": {
      "text/html": [
       "<div>\n",
       "<style scoped>\n",
       "    .dataframe tbody tr th:only-of-type {\n",
       "        vertical-align: middle;\n",
       "    }\n",
       "\n",
       "    .dataframe tbody tr th {\n",
       "        vertical-align: top;\n",
       "    }\n",
       "\n",
       "    .dataframe thead th {\n",
       "        text-align: right;\n",
       "    }\n",
       "</style>\n",
       "<table border=\"1\" class=\"dataframe\">\n",
       "  <thead>\n",
       "    <tr style=\"text-align: right;\">\n",
       "      <th></th>\n",
       "      <th>Quarter</th>\n",
       "      <th>Sales</th>\n",
       "      <th>Quarters</th>\n",
       "      <th>Q1</th>\n",
       "      <th>Q2</th>\n",
       "      <th>Q3</th>\n",
       "      <th>Q4</th>\n",
       "    </tr>\n",
       "  </thead>\n",
       "  <tbody>\n",
       "    <tr>\n",
       "      <th>0</th>\n",
       "      <td>Q1_86</td>\n",
       "      <td>1734.827000</td>\n",
       "      <td>Q1</td>\n",
       "      <td>1</td>\n",
       "      <td>0</td>\n",
       "      <td>0</td>\n",
       "      <td>0</td>\n",
       "    </tr>\n",
       "    <tr>\n",
       "      <th>1</th>\n",
       "      <td>Q2_86</td>\n",
       "      <td>2244.960999</td>\n",
       "      <td>Q2</td>\n",
       "      <td>0</td>\n",
       "      <td>1</td>\n",
       "      <td>0</td>\n",
       "      <td>0</td>\n",
       "    </tr>\n",
       "    <tr>\n",
       "      <th>2</th>\n",
       "      <td>Q3_86</td>\n",
       "      <td>2533.804993</td>\n",
       "      <td>Q3</td>\n",
       "      <td>0</td>\n",
       "      <td>0</td>\n",
       "      <td>1</td>\n",
       "      <td>0</td>\n",
       "    </tr>\n",
       "    <tr>\n",
       "      <th>3</th>\n",
       "      <td>Q4_86</td>\n",
       "      <td>2154.962997</td>\n",
       "      <td>Q4</td>\n",
       "      <td>0</td>\n",
       "      <td>0</td>\n",
       "      <td>0</td>\n",
       "      <td>1</td>\n",
       "    </tr>\n",
       "    <tr>\n",
       "      <th>4</th>\n",
       "      <td>Q1_87</td>\n",
       "      <td>1547.818996</td>\n",
       "      <td>Q1</td>\n",
       "      <td>1</td>\n",
       "      <td>0</td>\n",
       "      <td>0</td>\n",
       "      <td>0</td>\n",
       "    </tr>\n",
       "    <tr>\n",
       "      <th>5</th>\n",
       "      <td>Q2_87</td>\n",
       "      <td>2104.411995</td>\n",
       "      <td>Q2</td>\n",
       "      <td>0</td>\n",
       "      <td>1</td>\n",
       "      <td>0</td>\n",
       "      <td>0</td>\n",
       "    </tr>\n",
       "    <tr>\n",
       "      <th>6</th>\n",
       "      <td>Q3_87</td>\n",
       "      <td>2014.362999</td>\n",
       "      <td>Q3</td>\n",
       "      <td>0</td>\n",
       "      <td>0</td>\n",
       "      <td>1</td>\n",
       "      <td>0</td>\n",
       "    </tr>\n",
       "    <tr>\n",
       "      <th>7</th>\n",
       "      <td>Q4_87</td>\n",
       "      <td>1991.746998</td>\n",
       "      <td>Q4</td>\n",
       "      <td>0</td>\n",
       "      <td>0</td>\n",
       "      <td>0</td>\n",
       "      <td>1</td>\n",
       "    </tr>\n",
       "    <tr>\n",
       "      <th>8</th>\n",
       "      <td>Q1_88</td>\n",
       "      <td>1869.049999</td>\n",
       "      <td>Q1</td>\n",
       "      <td>1</td>\n",
       "      <td>0</td>\n",
       "      <td>0</td>\n",
       "      <td>0</td>\n",
       "    </tr>\n",
       "    <tr>\n",
       "      <th>9</th>\n",
       "      <td>Q2_88</td>\n",
       "      <td>2313.631996</td>\n",
       "      <td>Q2</td>\n",
       "      <td>0</td>\n",
       "      <td>1</td>\n",
       "      <td>0</td>\n",
       "      <td>0</td>\n",
       "    </tr>\n",
       "    <tr>\n",
       "      <th>10</th>\n",
       "      <td>Q3_88</td>\n",
       "      <td>2128.320000</td>\n",
       "      <td>Q3</td>\n",
       "      <td>0</td>\n",
       "      <td>0</td>\n",
       "      <td>1</td>\n",
       "      <td>0</td>\n",
       "    </tr>\n",
       "    <tr>\n",
       "      <th>11</th>\n",
       "      <td>Q4_88</td>\n",
       "      <td>2026.828999</td>\n",
       "      <td>Q4</td>\n",
       "      <td>0</td>\n",
       "      <td>0</td>\n",
       "      <td>0</td>\n",
       "      <td>1</td>\n",
       "    </tr>\n",
       "    <tr>\n",
       "      <th>12</th>\n",
       "      <td>Q1_89</td>\n",
       "      <td>1910.603996</td>\n",
       "      <td>Q1</td>\n",
       "      <td>1</td>\n",
       "      <td>0</td>\n",
       "      <td>0</td>\n",
       "      <td>0</td>\n",
       "    </tr>\n",
       "    <tr>\n",
       "      <th>13</th>\n",
       "      <td>Q2_89</td>\n",
       "      <td>2331.164993</td>\n",
       "      <td>Q2</td>\n",
       "      <td>0</td>\n",
       "      <td>1</td>\n",
       "      <td>0</td>\n",
       "      <td>0</td>\n",
       "    </tr>\n",
       "    <tr>\n",
       "      <th>14</th>\n",
       "      <td>Q3_89</td>\n",
       "      <td>2206.549995</td>\n",
       "      <td>Q3</td>\n",
       "      <td>0</td>\n",
       "      <td>0</td>\n",
       "      <td>1</td>\n",
       "      <td>0</td>\n",
       "    </tr>\n",
       "    <tr>\n",
       "      <th>15</th>\n",
       "      <td>Q4_89</td>\n",
       "      <td>2173.967995</td>\n",
       "      <td>Q4</td>\n",
       "      <td>0</td>\n",
       "      <td>0</td>\n",
       "      <td>0</td>\n",
       "      <td>1</td>\n",
       "    </tr>\n",
       "    <tr>\n",
       "      <th>16</th>\n",
       "      <td>Q1_90</td>\n",
       "      <td>2148.278000</td>\n",
       "      <td>Q1</td>\n",
       "      <td>1</td>\n",
       "      <td>0</td>\n",
       "      <td>0</td>\n",
       "      <td>0</td>\n",
       "    </tr>\n",
       "    <tr>\n",
       "      <th>17</th>\n",
       "      <td>Q2_90</td>\n",
       "      <td>2739.307999</td>\n",
       "      <td>Q2</td>\n",
       "      <td>0</td>\n",
       "      <td>1</td>\n",
       "      <td>0</td>\n",
       "      <td>0</td>\n",
       "    </tr>\n",
       "    <tr>\n",
       "      <th>18</th>\n",
       "      <td>Q3_90</td>\n",
       "      <td>2792.753998</td>\n",
       "      <td>Q3</td>\n",
       "      <td>0</td>\n",
       "      <td>0</td>\n",
       "      <td>1</td>\n",
       "      <td>0</td>\n",
       "    </tr>\n",
       "    <tr>\n",
       "      <th>19</th>\n",
       "      <td>Q4_90</td>\n",
       "      <td>2556.009995</td>\n",
       "      <td>Q4</td>\n",
       "      <td>0</td>\n",
       "      <td>0</td>\n",
       "      <td>0</td>\n",
       "      <td>1</td>\n",
       "    </tr>\n",
       "    <tr>\n",
       "      <th>20</th>\n",
       "      <td>Q1_91</td>\n",
       "      <td>2480.973999</td>\n",
       "      <td>Q1</td>\n",
       "      <td>1</td>\n",
       "      <td>0</td>\n",
       "      <td>0</td>\n",
       "      <td>0</td>\n",
       "    </tr>\n",
       "    <tr>\n",
       "      <th>21</th>\n",
       "      <td>Q2_91</td>\n",
       "      <td>3039.522995</td>\n",
       "      <td>Q2</td>\n",
       "      <td>0</td>\n",
       "      <td>1</td>\n",
       "      <td>0</td>\n",
       "      <td>0</td>\n",
       "    </tr>\n",
       "    <tr>\n",
       "      <th>22</th>\n",
       "      <td>Q3_91</td>\n",
       "      <td>3172.115997</td>\n",
       "      <td>Q3</td>\n",
       "      <td>0</td>\n",
       "      <td>0</td>\n",
       "      <td>1</td>\n",
       "      <td>0</td>\n",
       "    </tr>\n",
       "    <tr>\n",
       "      <th>23</th>\n",
       "      <td>Q4_91</td>\n",
       "      <td>2879.000999</td>\n",
       "      <td>Q4</td>\n",
       "      <td>0</td>\n",
       "      <td>0</td>\n",
       "      <td>0</td>\n",
       "      <td>1</td>\n",
       "    </tr>\n",
       "    <tr>\n",
       "      <th>24</th>\n",
       "      <td>Q1_92</td>\n",
       "      <td>2772.000000</td>\n",
       "      <td>Q1</td>\n",
       "      <td>1</td>\n",
       "      <td>0</td>\n",
       "      <td>0</td>\n",
       "      <td>0</td>\n",
       "    </tr>\n",
       "    <tr>\n",
       "      <th>25</th>\n",
       "      <td>Q2_92</td>\n",
       "      <td>3550.000000</td>\n",
       "      <td>Q2</td>\n",
       "      <td>0</td>\n",
       "      <td>1</td>\n",
       "      <td>0</td>\n",
       "      <td>0</td>\n",
       "    </tr>\n",
       "    <tr>\n",
       "      <th>26</th>\n",
       "      <td>Q3_92</td>\n",
       "      <td>3508.000000</td>\n",
       "      <td>Q3</td>\n",
       "      <td>0</td>\n",
       "      <td>0</td>\n",
       "      <td>1</td>\n",
       "      <td>0</td>\n",
       "    </tr>\n",
       "    <tr>\n",
       "      <th>27</th>\n",
       "      <td>Q4_92</td>\n",
       "      <td>3243.859993</td>\n",
       "      <td>Q4</td>\n",
       "      <td>0</td>\n",
       "      <td>0</td>\n",
       "      <td>0</td>\n",
       "      <td>1</td>\n",
       "    </tr>\n",
       "    <tr>\n",
       "      <th>28</th>\n",
       "      <td>Q1_93</td>\n",
       "      <td>3056.000000</td>\n",
       "      <td>Q1</td>\n",
       "      <td>1</td>\n",
       "      <td>0</td>\n",
       "      <td>0</td>\n",
       "      <td>0</td>\n",
       "    </tr>\n",
       "    <tr>\n",
       "      <th>29</th>\n",
       "      <td>Q2_93</td>\n",
       "      <td>3899.000000</td>\n",
       "      <td>Q2</td>\n",
       "      <td>0</td>\n",
       "      <td>1</td>\n",
       "      <td>0</td>\n",
       "      <td>0</td>\n",
       "    </tr>\n",
       "    <tr>\n",
       "      <th>30</th>\n",
       "      <td>Q3_93</td>\n",
       "      <td>3629.000000</td>\n",
       "      <td>Q3</td>\n",
       "      <td>0</td>\n",
       "      <td>0</td>\n",
       "      <td>1</td>\n",
       "      <td>0</td>\n",
       "    </tr>\n",
       "    <tr>\n",
       "      <th>31</th>\n",
       "      <td>Q4_93</td>\n",
       "      <td>3373.000000</td>\n",
       "      <td>Q4</td>\n",
       "      <td>0</td>\n",
       "      <td>0</td>\n",
       "      <td>0</td>\n",
       "      <td>1</td>\n",
       "    </tr>\n",
       "    <tr>\n",
       "      <th>32</th>\n",
       "      <td>Q1_94</td>\n",
       "      <td>3352.000000</td>\n",
       "      <td>Q1</td>\n",
       "      <td>1</td>\n",
       "      <td>0</td>\n",
       "      <td>0</td>\n",
       "      <td>0</td>\n",
       "    </tr>\n",
       "    <tr>\n",
       "      <th>33</th>\n",
       "      <td>Q2_94</td>\n",
       "      <td>4342.000000</td>\n",
       "      <td>Q2</td>\n",
       "      <td>0</td>\n",
       "      <td>1</td>\n",
       "      <td>0</td>\n",
       "      <td>0</td>\n",
       "    </tr>\n",
       "    <tr>\n",
       "      <th>34</th>\n",
       "      <td>Q3_94</td>\n",
       "      <td>4461.000000</td>\n",
       "      <td>Q3</td>\n",
       "      <td>0</td>\n",
       "      <td>0</td>\n",
       "      <td>1</td>\n",
       "      <td>0</td>\n",
       "    </tr>\n",
       "    <tr>\n",
       "      <th>35</th>\n",
       "      <td>Q4_94</td>\n",
       "      <td>4017.000000</td>\n",
       "      <td>Q4</td>\n",
       "      <td>0</td>\n",
       "      <td>0</td>\n",
       "      <td>0</td>\n",
       "      <td>1</td>\n",
       "    </tr>\n",
       "    <tr>\n",
       "      <th>36</th>\n",
       "      <td>Q1_95</td>\n",
       "      <td>3854.000000</td>\n",
       "      <td>Q1</td>\n",
       "      <td>1</td>\n",
       "      <td>0</td>\n",
       "      <td>0</td>\n",
       "      <td>0</td>\n",
       "    </tr>\n",
       "    <tr>\n",
       "      <th>37</th>\n",
       "      <td>Q2_95</td>\n",
       "      <td>4936.000000</td>\n",
       "      <td>Q2</td>\n",
       "      <td>0</td>\n",
       "      <td>1</td>\n",
       "      <td>0</td>\n",
       "      <td>0</td>\n",
       "    </tr>\n",
       "    <tr>\n",
       "      <th>38</th>\n",
       "      <td>Q3_95</td>\n",
       "      <td>4895.000000</td>\n",
       "      <td>Q3</td>\n",
       "      <td>0</td>\n",
       "      <td>0</td>\n",
       "      <td>1</td>\n",
       "      <td>0</td>\n",
       "    </tr>\n",
       "    <tr>\n",
       "      <th>39</th>\n",
       "      <td>Q4_95</td>\n",
       "      <td>4333.000000</td>\n",
       "      <td>Q4</td>\n",
       "      <td>0</td>\n",
       "      <td>0</td>\n",
       "      <td>0</td>\n",
       "      <td>1</td>\n",
       "    </tr>\n",
       "    <tr>\n",
       "      <th>40</th>\n",
       "      <td>Q1_96</td>\n",
       "      <td>4194.000000</td>\n",
       "      <td>Q1</td>\n",
       "      <td>1</td>\n",
       "      <td>0</td>\n",
       "      <td>0</td>\n",
       "      <td>0</td>\n",
       "    </tr>\n",
       "    <tr>\n",
       "      <th>41</th>\n",
       "      <td>Q2_96</td>\n",
       "      <td>5253.000000</td>\n",
       "      <td>Q2</td>\n",
       "      <td>0</td>\n",
       "      <td>1</td>\n",
       "      <td>0</td>\n",
       "      <td>0</td>\n",
       "    </tr>\n",
       "  </tbody>\n",
       "</table>\n",
       "</div>"
      ],
      "text/plain": [
       "   Quarter        Sales Quarters  Q1  Q2  Q3  Q4\n",
       "0    Q1_86  1734.827000       Q1   1   0   0   0\n",
       "1    Q2_86  2244.960999       Q2   0   1   0   0\n",
       "2    Q3_86  2533.804993       Q3   0   0   1   0\n",
       "3    Q4_86  2154.962997       Q4   0   0   0   1\n",
       "4    Q1_87  1547.818996       Q1   1   0   0   0\n",
       "5    Q2_87  2104.411995       Q2   0   1   0   0\n",
       "6    Q3_87  2014.362999       Q3   0   0   1   0\n",
       "7    Q4_87  1991.746998       Q4   0   0   0   1\n",
       "8    Q1_88  1869.049999       Q1   1   0   0   0\n",
       "9    Q2_88  2313.631996       Q2   0   1   0   0\n",
       "10   Q3_88  2128.320000       Q3   0   0   1   0\n",
       "11   Q4_88  2026.828999       Q4   0   0   0   1\n",
       "12   Q1_89  1910.603996       Q1   1   0   0   0\n",
       "13   Q2_89  2331.164993       Q2   0   1   0   0\n",
       "14   Q3_89  2206.549995       Q3   0   0   1   0\n",
       "15   Q4_89  2173.967995       Q4   0   0   0   1\n",
       "16   Q1_90  2148.278000       Q1   1   0   0   0\n",
       "17   Q2_90  2739.307999       Q2   0   1   0   0\n",
       "18   Q3_90  2792.753998       Q3   0   0   1   0\n",
       "19   Q4_90  2556.009995       Q4   0   0   0   1\n",
       "20   Q1_91  2480.973999       Q1   1   0   0   0\n",
       "21   Q2_91  3039.522995       Q2   0   1   0   0\n",
       "22   Q3_91  3172.115997       Q3   0   0   1   0\n",
       "23   Q4_91  2879.000999       Q4   0   0   0   1\n",
       "24   Q1_92  2772.000000       Q1   1   0   0   0\n",
       "25   Q2_92  3550.000000       Q2   0   1   0   0\n",
       "26   Q3_92  3508.000000       Q3   0   0   1   0\n",
       "27   Q4_92  3243.859993       Q4   0   0   0   1\n",
       "28   Q1_93  3056.000000       Q1   1   0   0   0\n",
       "29   Q2_93  3899.000000       Q2   0   1   0   0\n",
       "30   Q3_93  3629.000000       Q3   0   0   1   0\n",
       "31   Q4_93  3373.000000       Q4   0   0   0   1\n",
       "32   Q1_94  3352.000000       Q1   1   0   0   0\n",
       "33   Q2_94  4342.000000       Q2   0   1   0   0\n",
       "34   Q3_94  4461.000000       Q3   0   0   1   0\n",
       "35   Q4_94  4017.000000       Q4   0   0   0   1\n",
       "36   Q1_95  3854.000000       Q1   1   0   0   0\n",
       "37   Q2_95  4936.000000       Q2   0   1   0   0\n",
       "38   Q3_95  4895.000000       Q3   0   0   1   0\n",
       "39   Q4_95  4333.000000       Q4   0   0   0   1\n",
       "40   Q1_96  4194.000000       Q1   1   0   0   0\n",
       "41   Q2_96  5253.000000       Q2   0   1   0   0"
      ]
     },
     "execution_count": 11,
     "metadata": {},
     "output_type": "execute_result"
    }
   ],
   "source": [
    "def separateQuarter(x):\n",
    "    list_q = x.split('_')\n",
    "    return list_q[0]\n",
    "\n",
    "cc_data['Quarters'] = cc_data['Quarter'].apply(separateQuarter)\n",
    "\n",
    "dummy = pd.DataFrame(pd.get_dummies(cc_data['Quarters']))\n",
    "cc_data = pd.concat([cc_data,dummy], axis=1)\n",
    "cc_data"
   ]
  },
  {
   "cell_type": "code",
   "execution_count": 12,
   "id": "e42dfd84",
   "metadata": {
    "ExecuteTime": {
     "end_time": "2022-12-07T06:44:55.809774Z",
     "start_time": "2022-12-07T06:44:55.783546Z"
    }
   },
   "outputs": [
    {
     "data": {
      "text/html": [
       "<div>\n",
       "<style scoped>\n",
       "    .dataframe tbody tr th:only-of-type {\n",
       "        vertical-align: middle;\n",
       "    }\n",
       "\n",
       "    .dataframe tbody tr th {\n",
       "        vertical-align: top;\n",
       "    }\n",
       "\n",
       "    .dataframe thead th {\n",
       "        text-align: right;\n",
       "    }\n",
       "</style>\n",
       "<table border=\"1\" class=\"dataframe\">\n",
       "  <thead>\n",
       "    <tr style=\"text-align: right;\">\n",
       "      <th></th>\n",
       "      <th>Quarter</th>\n",
       "      <th>Sales</th>\n",
       "      <th>Quarters</th>\n",
       "      <th>Q1</th>\n",
       "      <th>Q2</th>\n",
       "      <th>Q3</th>\n",
       "      <th>Q4</th>\n",
       "      <th>year</th>\n",
       "    </tr>\n",
       "  </thead>\n",
       "  <tbody>\n",
       "    <tr>\n",
       "      <th>0</th>\n",
       "      <td>Q1_86</td>\n",
       "      <td>1734.827000</td>\n",
       "      <td>Q1</td>\n",
       "      <td>1</td>\n",
       "      <td>0</td>\n",
       "      <td>0</td>\n",
       "      <td>0</td>\n",
       "      <td>1986</td>\n",
       "    </tr>\n",
       "    <tr>\n",
       "      <th>1</th>\n",
       "      <td>Q2_86</td>\n",
       "      <td>2244.960999</td>\n",
       "      <td>Q2</td>\n",
       "      <td>0</td>\n",
       "      <td>1</td>\n",
       "      <td>0</td>\n",
       "      <td>0</td>\n",
       "      <td>1986</td>\n",
       "    </tr>\n",
       "    <tr>\n",
       "      <th>2</th>\n",
       "      <td>Q3_86</td>\n",
       "      <td>2533.804993</td>\n",
       "      <td>Q3</td>\n",
       "      <td>0</td>\n",
       "      <td>0</td>\n",
       "      <td>1</td>\n",
       "      <td>0</td>\n",
       "      <td>1986</td>\n",
       "    </tr>\n",
       "    <tr>\n",
       "      <th>3</th>\n",
       "      <td>Q4_86</td>\n",
       "      <td>2154.962997</td>\n",
       "      <td>Q4</td>\n",
       "      <td>0</td>\n",
       "      <td>0</td>\n",
       "      <td>0</td>\n",
       "      <td>1</td>\n",
       "      <td>1986</td>\n",
       "    </tr>\n",
       "    <tr>\n",
       "      <th>4</th>\n",
       "      <td>Q1_87</td>\n",
       "      <td>1547.818996</td>\n",
       "      <td>Q1</td>\n",
       "      <td>1</td>\n",
       "      <td>0</td>\n",
       "      <td>0</td>\n",
       "      <td>0</td>\n",
       "      <td>1987</td>\n",
       "    </tr>\n",
       "  </tbody>\n",
       "</table>\n",
       "</div>"
      ],
      "text/plain": [
       "  Quarter        Sales Quarters  Q1  Q2  Q3  Q4  year\n",
       "0   Q1_86  1734.827000       Q1   1   0   0   0  1986\n",
       "1   Q2_86  2244.960999       Q2   0   1   0   0  1986\n",
       "2   Q3_86  2533.804993       Q3   0   0   1   0  1986\n",
       "3   Q4_86  2154.962997       Q4   0   0   0   1  1986\n",
       "4   Q1_87  1547.818996       Q1   1   0   0   0  1987"
      ]
     },
     "execution_count": 12,
     "metadata": {},
     "output_type": "execute_result"
    }
   ],
   "source": [
    "def calculateYear(x):\n",
    "    items  = x.split('_')\n",
    "    year   = items[1]\n",
    "    finalyear = '19'+year\n",
    "    return int(finalyear)\n",
    "\n",
    "cc_data['year'] = cc_data['Quarter'].apply(calculateYear)\n",
    "cc_data.head(5)"
   ]
  },
  {
   "cell_type": "code",
   "execution_count": 13,
   "id": "d5eb6640",
   "metadata": {
    "ExecuteTime": {
     "end_time": "2022-12-07T06:44:55.857378Z",
     "start_time": "2022-12-07T06:44:55.813789Z"
    },
    "scrolled": true
   },
   "outputs": [
    {
     "data": {
      "text/html": [
       "<div>\n",
       "<style scoped>\n",
       "    .dataframe tbody tr th:only-of-type {\n",
       "        vertical-align: middle;\n",
       "    }\n",
       "\n",
       "    .dataframe tbody tr th {\n",
       "        vertical-align: top;\n",
       "    }\n",
       "\n",
       "    .dataframe thead th {\n",
       "        text-align: right;\n",
       "    }\n",
       "</style>\n",
       "<table border=\"1\" class=\"dataframe\">\n",
       "  <thead>\n",
       "    <tr style=\"text-align: right;\">\n",
       "      <th></th>\n",
       "      <th>Quarter</th>\n",
       "      <th>Sales</th>\n",
       "      <th>Quarters</th>\n",
       "      <th>Q1</th>\n",
       "      <th>Q2</th>\n",
       "      <th>Q3</th>\n",
       "      <th>Q4</th>\n",
       "      <th>year</th>\n",
       "      <th>t</th>\n",
       "      <th>t_square</th>\n",
       "      <th>log_sales</th>\n",
       "    </tr>\n",
       "  </thead>\n",
       "  <tbody>\n",
       "    <tr>\n",
       "      <th>0</th>\n",
       "      <td>Q1_86</td>\n",
       "      <td>1734.827000</td>\n",
       "      <td>Q1</td>\n",
       "      <td>1</td>\n",
       "      <td>0</td>\n",
       "      <td>0</td>\n",
       "      <td>0</td>\n",
       "      <td>1986</td>\n",
       "      <td>1</td>\n",
       "      <td>1</td>\n",
       "      <td>7.458663</td>\n",
       "    </tr>\n",
       "    <tr>\n",
       "      <th>1</th>\n",
       "      <td>Q2_86</td>\n",
       "      <td>2244.960999</td>\n",
       "      <td>Q2</td>\n",
       "      <td>0</td>\n",
       "      <td>1</td>\n",
       "      <td>0</td>\n",
       "      <td>0</td>\n",
       "      <td>1986</td>\n",
       "      <td>2</td>\n",
       "      <td>4</td>\n",
       "      <td>7.716443</td>\n",
       "    </tr>\n",
       "    <tr>\n",
       "      <th>2</th>\n",
       "      <td>Q3_86</td>\n",
       "      <td>2533.804993</td>\n",
       "      <td>Q3</td>\n",
       "      <td>0</td>\n",
       "      <td>0</td>\n",
       "      <td>1</td>\n",
       "      <td>0</td>\n",
       "      <td>1986</td>\n",
       "      <td>3</td>\n",
       "      <td>9</td>\n",
       "      <td>7.837477</td>\n",
       "    </tr>\n",
       "    <tr>\n",
       "      <th>3</th>\n",
       "      <td>Q4_86</td>\n",
       "      <td>2154.962997</td>\n",
       "      <td>Q4</td>\n",
       "      <td>0</td>\n",
       "      <td>0</td>\n",
       "      <td>0</td>\n",
       "      <td>1</td>\n",
       "      <td>1986</td>\n",
       "      <td>4</td>\n",
       "      <td>16</td>\n",
       "      <td>7.675529</td>\n",
       "    </tr>\n",
       "    <tr>\n",
       "      <th>4</th>\n",
       "      <td>Q1_87</td>\n",
       "      <td>1547.818996</td>\n",
       "      <td>Q1</td>\n",
       "      <td>1</td>\n",
       "      <td>0</td>\n",
       "      <td>0</td>\n",
       "      <td>0</td>\n",
       "      <td>1987</td>\n",
       "      <td>5</td>\n",
       "      <td>25</td>\n",
       "      <td>7.344602</td>\n",
       "    </tr>\n",
       "    <tr>\n",
       "      <th>5</th>\n",
       "      <td>Q2_87</td>\n",
       "      <td>2104.411995</td>\n",
       "      <td>Q2</td>\n",
       "      <td>0</td>\n",
       "      <td>1</td>\n",
       "      <td>0</td>\n",
       "      <td>0</td>\n",
       "      <td>1987</td>\n",
       "      <td>6</td>\n",
       "      <td>36</td>\n",
       "      <td>7.651791</td>\n",
       "    </tr>\n",
       "    <tr>\n",
       "      <th>6</th>\n",
       "      <td>Q3_87</td>\n",
       "      <td>2014.362999</td>\n",
       "      <td>Q3</td>\n",
       "      <td>0</td>\n",
       "      <td>0</td>\n",
       "      <td>1</td>\n",
       "      <td>0</td>\n",
       "      <td>1987</td>\n",
       "      <td>7</td>\n",
       "      <td>49</td>\n",
       "      <td>7.608058</td>\n",
       "    </tr>\n",
       "    <tr>\n",
       "      <th>7</th>\n",
       "      <td>Q4_87</td>\n",
       "      <td>1991.746998</td>\n",
       "      <td>Q4</td>\n",
       "      <td>0</td>\n",
       "      <td>0</td>\n",
       "      <td>0</td>\n",
       "      <td>1</td>\n",
       "      <td>1987</td>\n",
       "      <td>8</td>\n",
       "      <td>64</td>\n",
       "      <td>7.596767</td>\n",
       "    </tr>\n",
       "    <tr>\n",
       "      <th>8</th>\n",
       "      <td>Q1_88</td>\n",
       "      <td>1869.049999</td>\n",
       "      <td>Q1</td>\n",
       "      <td>1</td>\n",
       "      <td>0</td>\n",
       "      <td>0</td>\n",
       "      <td>0</td>\n",
       "      <td>1988</td>\n",
       "      <td>9</td>\n",
       "      <td>81</td>\n",
       "      <td>7.533186</td>\n",
       "    </tr>\n",
       "    <tr>\n",
       "      <th>9</th>\n",
       "      <td>Q2_88</td>\n",
       "      <td>2313.631996</td>\n",
       "      <td>Q2</td>\n",
       "      <td>0</td>\n",
       "      <td>1</td>\n",
       "      <td>0</td>\n",
       "      <td>0</td>\n",
       "      <td>1988</td>\n",
       "      <td>10</td>\n",
       "      <td>100</td>\n",
       "      <td>7.746574</td>\n",
       "    </tr>\n",
       "    <tr>\n",
       "      <th>10</th>\n",
       "      <td>Q3_88</td>\n",
       "      <td>2128.320000</td>\n",
       "      <td>Q3</td>\n",
       "      <td>0</td>\n",
       "      <td>0</td>\n",
       "      <td>1</td>\n",
       "      <td>0</td>\n",
       "      <td>1988</td>\n",
       "      <td>11</td>\n",
       "      <td>121</td>\n",
       "      <td>7.663088</td>\n",
       "    </tr>\n",
       "    <tr>\n",
       "      <th>11</th>\n",
       "      <td>Q4_88</td>\n",
       "      <td>2026.828999</td>\n",
       "      <td>Q4</td>\n",
       "      <td>0</td>\n",
       "      <td>0</td>\n",
       "      <td>0</td>\n",
       "      <td>1</td>\n",
       "      <td>1988</td>\n",
       "      <td>12</td>\n",
       "      <td>144</td>\n",
       "      <td>7.614228</td>\n",
       "    </tr>\n",
       "    <tr>\n",
       "      <th>12</th>\n",
       "      <td>Q1_89</td>\n",
       "      <td>1910.603996</td>\n",
       "      <td>Q1</td>\n",
       "      <td>1</td>\n",
       "      <td>0</td>\n",
       "      <td>0</td>\n",
       "      <td>0</td>\n",
       "      <td>1989</td>\n",
       "      <td>13</td>\n",
       "      <td>169</td>\n",
       "      <td>7.555175</td>\n",
       "    </tr>\n",
       "    <tr>\n",
       "      <th>13</th>\n",
       "      <td>Q2_89</td>\n",
       "      <td>2331.164993</td>\n",
       "      <td>Q2</td>\n",
       "      <td>0</td>\n",
       "      <td>1</td>\n",
       "      <td>0</td>\n",
       "      <td>0</td>\n",
       "      <td>1989</td>\n",
       "      <td>14</td>\n",
       "      <td>196</td>\n",
       "      <td>7.754123</td>\n",
       "    </tr>\n",
       "    <tr>\n",
       "      <th>14</th>\n",
       "      <td>Q3_89</td>\n",
       "      <td>2206.549995</td>\n",
       "      <td>Q3</td>\n",
       "      <td>0</td>\n",
       "      <td>0</td>\n",
       "      <td>1</td>\n",
       "      <td>0</td>\n",
       "      <td>1989</td>\n",
       "      <td>15</td>\n",
       "      <td>225</td>\n",
       "      <td>7.699185</td>\n",
       "    </tr>\n",
       "  </tbody>\n",
       "</table>\n",
       "</div>"
      ],
      "text/plain": [
       "   Quarter        Sales Quarters  Q1  Q2  Q3  Q4  year   t  t_square  \\\n",
       "0    Q1_86  1734.827000       Q1   1   0   0   0  1986   1         1   \n",
       "1    Q2_86  2244.960999       Q2   0   1   0   0  1986   2         4   \n",
       "2    Q3_86  2533.804993       Q3   0   0   1   0  1986   3         9   \n",
       "3    Q4_86  2154.962997       Q4   0   0   0   1  1986   4        16   \n",
       "4    Q1_87  1547.818996       Q1   1   0   0   0  1987   5        25   \n",
       "5    Q2_87  2104.411995       Q2   0   1   0   0  1987   6        36   \n",
       "6    Q3_87  2014.362999       Q3   0   0   1   0  1987   7        49   \n",
       "7    Q4_87  1991.746998       Q4   0   0   0   1  1987   8        64   \n",
       "8    Q1_88  1869.049999       Q1   1   0   0   0  1988   9        81   \n",
       "9    Q2_88  2313.631996       Q2   0   1   0   0  1988  10       100   \n",
       "10   Q3_88  2128.320000       Q3   0   0   1   0  1988  11       121   \n",
       "11   Q4_88  2026.828999       Q4   0   0   0   1  1988  12       144   \n",
       "12   Q1_89  1910.603996       Q1   1   0   0   0  1989  13       169   \n",
       "13   Q2_89  2331.164993       Q2   0   1   0   0  1989  14       196   \n",
       "14   Q3_89  2206.549995       Q3   0   0   1   0  1989  15       225   \n",
       "\n",
       "    log_sales  \n",
       "0    7.458663  \n",
       "1    7.716443  \n",
       "2    7.837477  \n",
       "3    7.675529  \n",
       "4    7.344602  \n",
       "5    7.651791  \n",
       "6    7.608058  \n",
       "7    7.596767  \n",
       "8    7.533186  \n",
       "9    7.746574  \n",
       "10   7.663088  \n",
       "11   7.614228  \n",
       "12   7.555175  \n",
       "13   7.754123  \n",
       "14   7.699185  "
      ]
     },
     "execution_count": 13,
     "metadata": {},
     "output_type": "execute_result"
    }
   ],
   "source": [
    "t_list = [x for x in range(1,len(cc_data)+1)]\n",
    "cc_data['t'] = t_list\n",
    "\n",
    "cc_data['t_square'] = cc_data['t']*cc_data['t']\n",
    "\n",
    "#log transformation\n",
    "cc_data['log_sales'] = log(cc_data.Sales)\n",
    "cc_data.head(15)"
   ]
  },
  {
   "cell_type": "markdown",
   "id": "017e9839",
   "metadata": {},
   "source": [
    "### Step-4 : Data Visualisation"
   ]
  },
  {
   "cell_type": "markdown",
   "id": "f10d6b98",
   "metadata": {
    "ExecuteTime": {
     "end_time": "2022-12-05T17:04:00.390367Z",
     "start_time": "2022-12-05T17:04:00.380837Z"
    }
   },
   "source": [
    "#### Heat map"
   ]
  },
  {
   "cell_type": "code",
   "execution_count": 14,
   "id": "9305dfb2",
   "metadata": {
    "ExecuteTime": {
     "end_time": "2022-12-07T06:44:57.060546Z",
     "start_time": "2022-12-07T06:44:55.858513Z"
    },
    "scrolled": true
   },
   "outputs": [
    {
     "data": {
      "text/plain": [
       "<AxesSubplot:xlabel='Quarters', ylabel='year'>"
      ]
     },
     "execution_count": 14,
     "metadata": {},
     "output_type": "execute_result"
    },
    {
     "data": {
      "image/png": "[encoded data removed]",
      "text/plain": [
       "<Figure size 720x576 with 2 Axes>"
      ]
     },
     "metadata": {},
     "output_type": "display_data"
    }
   ],
   "source": [
    "heatmap_Sales = pd.pivot_table(data=cc_data,values='Sales',index='year',\n",
    "                                    columns='Quarters',aggfunc='mean',fill_value=0)\n",
    "\n",
    "plt.figure(figsize=(10,8))\n",
    "sb.heatmap(heatmap_Sales, annot=True, fmt='g')"
   ]
  },
  {
   "cell_type": "markdown",
   "id": "efe57a6f",
   "metadata": {
    "ExecuteTime": {
     "end_time": "2022-12-05T17:04:37.956412Z",
     "start_time": "2022-12-05T17:04:37.947469Z"
    }
   },
   "source": [
    "#### Line plot"
   ]
  },
  {
   "cell_type": "code",
   "execution_count": 15,
   "id": "69232e0d",
   "metadata": {
    "ExecuteTime": {
     "end_time": "2022-12-07T06:44:57.569608Z",
     "start_time": "2022-12-07T06:44:57.060546Z"
    }
   },
   "outputs": [
    {
     "data": {
      "image/png": "[encoded data removed]",
      "text/plain": [
       "<Figure size 1440x576 with 1 Axes>"
      ]
     },
     "metadata": {},
     "output_type": "display_data"
    }
   ],
   "source": [
    "cc_data['Sales'].plot(figsize=(20, 8),color='red',marker='o')\n",
    "plt.show()"
   ]
  },
  {
   "cell_type": "markdown",
   "id": "e6aad8f9",
   "metadata": {
    "ExecuteTime": {
     "end_time": "2022-12-05T17:06:09.058543Z",
     "start_time": "2022-12-05T17:06:09.047514Z"
    }
   },
   "source": [
    "#### Box plot"
   ]
  },
  {
   "cell_type": "code",
   "execution_count": 16,
   "id": "8022a039",
   "metadata": {
    "ExecuteTime": {
     "end_time": "2022-12-07T06:44:58.523515Z",
     "start_time": "2022-12-07T06:44:57.572616Z"
    }
   },
   "outputs": [
    {
     "data": {
      "text/plain": [
       "<AxesSubplot:xlabel='year', ylabel='Sales'>"
      ]
     },
     "execution_count": 16,
     "metadata": {},
     "output_type": "execute_result"
    },
    {
     "data": {
      "image/png": "[encoded data removed]",
      "text/plain": [
       "<Figure size 576x432 with 2 Axes>"
      ]
     },
     "metadata": {},
     "output_type": "display_data"
    }
   ],
   "source": [
    "plt.figure(figsize=(8,6))\n",
    "plt.subplot(211)\n",
    "sb.boxplot(x='Quarters', y='Sales', data=cc_data)\n",
    "plt.subplot(212)\n",
    "sb.boxplot(x='year', y='Sales', data=cc_data)"
   ]
  },
  {
   "cell_type": "markdown",
   "id": "9482f7d7",
   "metadata": {},
   "source": [
    "#### Yearly Sales plot"
   ]
  },
  {
   "cell_type": "code",
   "execution_count": 17,
   "id": "33553067",
   "metadata": {
    "ExecuteTime": {
     "end_time": "2022-12-07T06:44:59.745414Z",
     "start_time": "2022-12-07T06:44:58.525259Z"
    }
   },
   "outputs": [
    {
     "data": {
      "text/plain": [
       "<AxesSubplot:xlabel='year', ylabel='Sales'>"
      ]
     },
     "execution_count": 17,
     "metadata": {},
     "output_type": "execute_result"
    },
    {
     "data": {
      "image/png": "[encoded data removed]",
      "text/plain": [
       "<Figure size 432x288 with 1 Axes>"
      ]
     },
     "metadata": {},
     "output_type": "display_data"
    }
   ],
   "source": [
    "sb.lineplot(x='year',y='Sales',data=cc_data)"
   ]
  },
  {
   "cell_type": "markdown",
   "id": "a4a76eb6",
   "metadata": {
    "ExecuteTime": {
     "end_time": "2022-12-05T17:09:06.929908Z",
     "start_time": "2022-12-05T17:09:06.911303Z"
    }
   },
   "source": [
    "#### Quarterly Sales plot"
   ]
  },
  {
   "cell_type": "code",
   "execution_count": 18,
   "id": "29346f09",
   "metadata": {
    "ExecuteTime": {
     "end_time": "2022-12-07T06:45:00.520198Z",
     "start_time": "2022-12-07T06:44:59.745414Z"
    }
   },
   "outputs": [
    {
     "data": {
      "text/plain": [
       "<AxesSubplot:xlabel='Quarters', ylabel='Sales'>"
      ]
     },
     "execution_count": 18,
     "metadata": {},
     "output_type": "execute_result"
    },
    {
     "data": {
      "image/png": "[encoded data removed]",
      "text/plain": [
       "<Figure size 432x288 with 1 Axes>"
      ]
     },
     "metadata": {},
     "output_type": "display_data"
    }
   ],
   "source": [
    "sb.lineplot(x='Quarters',y='Sales',data=cc_data)"
   ]
  },
  {
   "cell_type": "markdown",
   "id": "0cab430d",
   "metadata": {
    "ExecuteTime": {
     "end_time": "2022-12-05T17:10:16.984047Z",
     "start_time": "2022-12-05T17:10:16.970122Z"
    }
   },
   "source": [
    "#### Histogram"
   ]
  },
  {
   "cell_type": "code",
   "execution_count": 19,
   "id": "3be710d0",
   "metadata": {
    "ExecuteTime": {
     "end_time": "2022-12-07T06:45:01.153814Z",
     "start_time": "2022-12-07T06:45:00.520198Z"
    }
   },
   "outputs": [
    {
     "data": {
      "image/png": "[encoded data removed]",
      "text/plain": [
       "<Figure size 864x432 with 1 Axes>"
      ]
     },
     "metadata": {},
     "output_type": "display_data"
    }
   ],
   "source": [
    "cc_data.Sales.hist(figsize=(12,6))\n",
    "plt.show()"
   ]
  },
  {
   "cell_type": "markdown",
   "id": "121c2ae8",
   "metadata": {
    "ExecuteTime": {
     "end_time": "2022-12-05T17:10:34.395129Z",
     "start_time": "2022-12-05T17:10:34.379172Z"
    }
   },
   "source": [
    "#### Density plot"
   ]
  },
  {
   "cell_type": "code",
   "execution_count": 20,
   "id": "a025063c",
   "metadata": {
    "ExecuteTime": {
     "end_time": "2022-12-07T06:45:02.039830Z",
     "start_time": "2022-12-07T06:45:01.161205Z"
    }
   },
   "outputs": [
    {
     "data": {
      "image/png": "[encoded data removed]",
      "text/plain": [
       "<Figure size 864x432 with 1 Axes>"
      ]
     },
     "metadata": {},
     "output_type": "display_data"
    }
   ],
   "source": [
    "cc_data.Sales.plot(kind='kde', figsize=(12,6))\n",
    "plt.show()"
   ]
  },
  {
   "cell_type": "markdown",
   "id": "a07f7258",
   "metadata": {
    "ExecuteTime": {
     "end_time": "2022-12-05T17:10:49.264709Z",
     "start_time": "2022-12-05T17:10:49.249674Z"
    }
   },
   "source": [
    "#### Lag plot"
   ]
  },
  {
   "cell_type": "code",
   "execution_count": 21,
   "id": "da8a1bd5",
   "metadata": {
    "ExecuteTime": {
     "end_time": "2022-12-07T06:45:02.736854Z",
     "start_time": "2022-12-07T06:45:02.044328Z"
    }
   },
   "outputs": [
    {
     "data": {
      "image/png": "[encoded data removed]",
      "text/plain": [
       "<Figure size 432x288 with 1 Axes>"
      ]
     },
     "metadata": {},
     "output_type": "display_data"
    }
   ],
   "source": [
    "lag_plot(cc_data.Sales)\n",
    "plt.show()"
   ]
  },
  {
   "cell_type": "markdown",
   "id": "10fe0b90",
   "metadata": {},
   "source": [
    "#### Plotting Moving Average"
   ]
  },
  {
   "cell_type": "code",
   "execution_count": 22,
   "id": "f0fc2401",
   "metadata": {
    "ExecuteTime": {
     "end_time": "2022-12-07T06:45:03.594240Z",
     "start_time": "2022-12-07T06:45:02.742603Z"
    }
   },
   "outputs": [
    {
     "data": {
      "text/plain": [
       "<matplotlib.legend.Legend at 0x2768d5fe790>"
      ]
     },
     "execution_count": 22,
     "metadata": {},
     "output_type": "execute_result"
    },
    {
     "data": {
      "image/png": "[encoded data removed]",
      "text/plain": [
       "<Figure size 864x288 with 1 Axes>"
      ]
     },
     "metadata": {},
     "output_type": "display_data"
    }
   ],
   "source": [
    "plt.figure(figsize=(12,4))\n",
    "cc_data.Sales.plot(label=\"org\")\n",
    "for i in range(4,13,4):\n",
    "    cc_data[\"Sales\"].rolling(i).mean().plot(label=str(i))\n",
    "plt.legend(loc='best') "
   ]
  },
  {
   "cell_type": "markdown",
   "id": "1a9febcf",
   "metadata": {},
   "source": [
    "#### Time series decomposition plot "
   ]
  },
  {
   "cell_type": "code",
   "execution_count": 23,
   "id": "d4e2b9bc",
   "metadata": {
    "ExecuteTime": {
     "end_time": "2022-12-07T06:45:06.526345Z",
     "start_time": "2022-12-07T06:45:03.594240Z"
    }
   },
   "outputs": [
    {
     "data": {
      "image/png": "[encoded data removed]",
      "text/plain": [
       "<Figure size 864x864 with 4 Axes>"
      ]
     },
     "metadata": {},
     "output_type": "display_data"
    }
   ],
   "source": [
    "decompose_ts_add = seasonal_decompose(cc_data.Sales,period=12)\n",
    "with plt.rc_context():\n",
    "    plt.rc(\"figure\", figsize=(12,12))\n",
    "    decompose_ts_add.plot()\n",
    "    plt.show()"
   ]
  },
  {
   "cell_type": "markdown",
   "id": "809d45ab",
   "metadata": {},
   "source": [
    "### ACF plots and PACF plots"
   ]
  },
  {
   "cell_type": "code",
   "execution_count": 24,
   "id": "890f717e",
   "metadata": {
    "ExecuteTime": {
     "end_time": "2022-12-07T06:45:07.827755Z",
     "start_time": "2022-12-07T06:45:06.526345Z"
    }
   },
   "outputs": [
    {
     "data": {
      "image/png": "[encoded data removed]",
      "text/plain": [
       "<Figure size 864x288 with 1 Axes>"
      ]
     },
     "metadata": {},
     "output_type": "display_data"
    },
    {
     "data": {
      "image/png": "[encoded data removed]",
      "text/plain": [
       "<Figure size 864x288 with 1 Axes>"
      ]
     },
     "metadata": {},
     "output_type": "display_data"
    }
   ],
   "source": [
    "with plt.rc_context():\n",
    "    plt.rc(\"figure\", figsize=(12,4))\n",
    "    tsa_plots.plot_acf(cc_data.Sales,lags=41)\n",
    "    tsa_plots.plot_pacf(cc_data.Sales,lags=20)\n",
    "    plt.show()"
   ]
  },
  {
   "cell_type": "markdown",
   "id": "e18f5255",
   "metadata": {},
   "source": [
    "### Step-5 : Split the data into training and testing data"
   ]
  },
  {
   "cell_type": "code",
   "execution_count": 25,
   "id": "296cdd8a",
   "metadata": {
    "ExecuteTime": {
     "end_time": "2022-12-07T06:45:07.923277Z",
     "start_time": "2022-12-07T06:45:07.837983Z"
    }
   },
   "outputs": [
    {
     "data": {
      "text/html": [
       "<div>\n",
       "<style scoped>\n",
       "    .dataframe tbody tr th:only-of-type {\n",
       "        vertical-align: middle;\n",
       "    }\n",
       "\n",
       "    .dataframe tbody tr th {\n",
       "        vertical-align: top;\n",
       "    }\n",
       "\n",
       "    .dataframe thead th {\n",
       "        text-align: right;\n",
       "    }\n",
       "</style>\n",
       "<table border=\"1\" class=\"dataframe\">\n",
       "  <thead>\n",
       "    <tr style=\"text-align: right;\">\n",
       "      <th></th>\n",
       "      <th>Quarter</th>\n",
       "      <th>Sales</th>\n",
       "      <th>Quarters</th>\n",
       "      <th>Q1</th>\n",
       "      <th>Q2</th>\n",
       "      <th>Q3</th>\n",
       "      <th>Q4</th>\n",
       "      <th>year</th>\n",
       "      <th>t</th>\n",
       "      <th>t_square</th>\n",
       "      <th>log_sales</th>\n",
       "    </tr>\n",
       "  </thead>\n",
       "  <tbody>\n",
       "    <tr>\n",
       "      <th>0</th>\n",
       "      <td>Q1_86</td>\n",
       "      <td>1734.827000</td>\n",
       "      <td>Q1</td>\n",
       "      <td>1</td>\n",
       "      <td>0</td>\n",
       "      <td>0</td>\n",
       "      <td>0</td>\n",
       "      <td>1986</td>\n",
       "      <td>1</td>\n",
       "      <td>1</td>\n",
       "      <td>7.458663</td>\n",
       "    </tr>\n",
       "    <tr>\n",
       "      <th>1</th>\n",
       "      <td>Q2_86</td>\n",
       "      <td>2244.960999</td>\n",
       "      <td>Q2</td>\n",
       "      <td>0</td>\n",
       "      <td>1</td>\n",
       "      <td>0</td>\n",
       "      <td>0</td>\n",
       "      <td>1986</td>\n",
       "      <td>2</td>\n",
       "      <td>4</td>\n",
       "      <td>7.716443</td>\n",
       "    </tr>\n",
       "    <tr>\n",
       "      <th>2</th>\n",
       "      <td>Q3_86</td>\n",
       "      <td>2533.804993</td>\n",
       "      <td>Q3</td>\n",
       "      <td>0</td>\n",
       "      <td>0</td>\n",
       "      <td>1</td>\n",
       "      <td>0</td>\n",
       "      <td>1986</td>\n",
       "      <td>3</td>\n",
       "      <td>9</td>\n",
       "      <td>7.837477</td>\n",
       "    </tr>\n",
       "    <tr>\n",
       "      <th>3</th>\n",
       "      <td>Q4_86</td>\n",
       "      <td>2154.962997</td>\n",
       "      <td>Q4</td>\n",
       "      <td>0</td>\n",
       "      <td>0</td>\n",
       "      <td>0</td>\n",
       "      <td>1</td>\n",
       "      <td>1986</td>\n",
       "      <td>4</td>\n",
       "      <td>16</td>\n",
       "      <td>7.675529</td>\n",
       "    </tr>\n",
       "    <tr>\n",
       "      <th>4</th>\n",
       "      <td>Q1_87</td>\n",
       "      <td>1547.818996</td>\n",
       "      <td>Q1</td>\n",
       "      <td>1</td>\n",
       "      <td>0</td>\n",
       "      <td>0</td>\n",
       "      <td>0</td>\n",
       "      <td>1987</td>\n",
       "      <td>5</td>\n",
       "      <td>25</td>\n",
       "      <td>7.344602</td>\n",
       "    </tr>\n",
       "    <tr>\n",
       "      <th>5</th>\n",
       "      <td>Q2_87</td>\n",
       "      <td>2104.411995</td>\n",
       "      <td>Q2</td>\n",
       "      <td>0</td>\n",
       "      <td>1</td>\n",
       "      <td>0</td>\n",
       "      <td>0</td>\n",
       "      <td>1987</td>\n",
       "      <td>6</td>\n",
       "      <td>36</td>\n",
       "      <td>7.651791</td>\n",
       "    </tr>\n",
       "    <tr>\n",
       "      <th>6</th>\n",
       "      <td>Q3_87</td>\n",
       "      <td>2014.362999</td>\n",
       "      <td>Q3</td>\n",
       "      <td>0</td>\n",
       "      <td>0</td>\n",
       "      <td>1</td>\n",
       "      <td>0</td>\n",
       "      <td>1987</td>\n",
       "      <td>7</td>\n",
       "      <td>49</td>\n",
       "      <td>7.608058</td>\n",
       "    </tr>\n",
       "    <tr>\n",
       "      <th>7</th>\n",
       "      <td>Q4_87</td>\n",
       "      <td>1991.746998</td>\n",
       "      <td>Q4</td>\n",
       "      <td>0</td>\n",
       "      <td>0</td>\n",
       "      <td>0</td>\n",
       "      <td>1</td>\n",
       "      <td>1987</td>\n",
       "      <td>8</td>\n",
       "      <td>64</td>\n",
       "      <td>7.596767</td>\n",
       "    </tr>\n",
       "    <tr>\n",
       "      <th>8</th>\n",
       "      <td>Q1_88</td>\n",
       "      <td>1869.049999</td>\n",
       "      <td>Q1</td>\n",
       "      <td>1</td>\n",
       "      <td>0</td>\n",
       "      <td>0</td>\n",
       "      <td>0</td>\n",
       "      <td>1988</td>\n",
       "      <td>9</td>\n",
       "      <td>81</td>\n",
       "      <td>7.533186</td>\n",
       "    </tr>\n",
       "    <tr>\n",
       "      <th>9</th>\n",
       "      <td>Q2_88</td>\n",
       "      <td>2313.631996</td>\n",
       "      <td>Q2</td>\n",
       "      <td>0</td>\n",
       "      <td>1</td>\n",
       "      <td>0</td>\n",
       "      <td>0</td>\n",
       "      <td>1988</td>\n",
       "      <td>10</td>\n",
       "      <td>100</td>\n",
       "      <td>7.746574</td>\n",
       "    </tr>\n",
       "    <tr>\n",
       "      <th>10</th>\n",
       "      <td>Q3_88</td>\n",
       "      <td>2128.320000</td>\n",
       "      <td>Q3</td>\n",
       "      <td>0</td>\n",
       "      <td>0</td>\n",
       "      <td>1</td>\n",
       "      <td>0</td>\n",
       "      <td>1988</td>\n",
       "      <td>11</td>\n",
       "      <td>121</td>\n",
       "      <td>7.663088</td>\n",
       "    </tr>\n",
       "    <tr>\n",
       "      <th>11</th>\n",
       "      <td>Q4_88</td>\n",
       "      <td>2026.828999</td>\n",
       "      <td>Q4</td>\n",
       "      <td>0</td>\n",
       "      <td>0</td>\n",
       "      <td>0</td>\n",
       "      <td>1</td>\n",
       "      <td>1988</td>\n",
       "      <td>12</td>\n",
       "      <td>144</td>\n",
       "      <td>7.614228</td>\n",
       "    </tr>\n",
       "    <tr>\n",
       "      <th>12</th>\n",
       "      <td>Q1_89</td>\n",
       "      <td>1910.603996</td>\n",
       "      <td>Q1</td>\n",
       "      <td>1</td>\n",
       "      <td>0</td>\n",
       "      <td>0</td>\n",
       "      <td>0</td>\n",
       "      <td>1989</td>\n",
       "      <td>13</td>\n",
       "      <td>169</td>\n",
       "      <td>7.555175</td>\n",
       "    </tr>\n",
       "    <tr>\n",
       "      <th>13</th>\n",
       "      <td>Q2_89</td>\n",
       "      <td>2331.164993</td>\n",
       "      <td>Q2</td>\n",
       "      <td>0</td>\n",
       "      <td>1</td>\n",
       "      <td>0</td>\n",
       "      <td>0</td>\n",
       "      <td>1989</td>\n",
       "      <td>14</td>\n",
       "      <td>196</td>\n",
       "      <td>7.754123</td>\n",
       "    </tr>\n",
       "    <tr>\n",
       "      <th>14</th>\n",
       "      <td>Q3_89</td>\n",
       "      <td>2206.549995</td>\n",
       "      <td>Q3</td>\n",
       "      <td>0</td>\n",
       "      <td>0</td>\n",
       "      <td>1</td>\n",
       "      <td>0</td>\n",
       "      <td>1989</td>\n",
       "      <td>15</td>\n",
       "      <td>225</td>\n",
       "      <td>7.699185</td>\n",
       "    </tr>\n",
       "    <tr>\n",
       "      <th>15</th>\n",
       "      <td>Q4_89</td>\n",
       "      <td>2173.967995</td>\n",
       "      <td>Q4</td>\n",
       "      <td>0</td>\n",
       "      <td>0</td>\n",
       "      <td>0</td>\n",
       "      <td>1</td>\n",
       "      <td>1989</td>\n",
       "      <td>16</td>\n",
       "      <td>256</td>\n",
       "      <td>7.684309</td>\n",
       "    </tr>\n",
       "    <tr>\n",
       "      <th>16</th>\n",
       "      <td>Q1_90</td>\n",
       "      <td>2148.278000</td>\n",
       "      <td>Q1</td>\n",
       "      <td>1</td>\n",
       "      <td>0</td>\n",
       "      <td>0</td>\n",
       "      <td>0</td>\n",
       "      <td>1990</td>\n",
       "      <td>17</td>\n",
       "      <td>289</td>\n",
       "      <td>7.672422</td>\n",
       "    </tr>\n",
       "    <tr>\n",
       "      <th>17</th>\n",
       "      <td>Q2_90</td>\n",
       "      <td>2739.307999</td>\n",
       "      <td>Q2</td>\n",
       "      <td>0</td>\n",
       "      <td>1</td>\n",
       "      <td>0</td>\n",
       "      <td>0</td>\n",
       "      <td>1990</td>\n",
       "      <td>18</td>\n",
       "      <td>324</td>\n",
       "      <td>7.915461</td>\n",
       "    </tr>\n",
       "    <tr>\n",
       "      <th>18</th>\n",
       "      <td>Q3_90</td>\n",
       "      <td>2792.753998</td>\n",
       "      <td>Q3</td>\n",
       "      <td>0</td>\n",
       "      <td>0</td>\n",
       "      <td>1</td>\n",
       "      <td>0</td>\n",
       "      <td>1990</td>\n",
       "      <td>19</td>\n",
       "      <td>361</td>\n",
       "      <td>7.934783</td>\n",
       "    </tr>\n",
       "    <tr>\n",
       "      <th>19</th>\n",
       "      <td>Q4_90</td>\n",
       "      <td>2556.009995</td>\n",
       "      <td>Q4</td>\n",
       "      <td>0</td>\n",
       "      <td>0</td>\n",
       "      <td>0</td>\n",
       "      <td>1</td>\n",
       "      <td>1990</td>\n",
       "      <td>20</td>\n",
       "      <td>400</td>\n",
       "      <td>7.846203</td>\n",
       "    </tr>\n",
       "    <tr>\n",
       "      <th>20</th>\n",
       "      <td>Q1_91</td>\n",
       "      <td>2480.973999</td>\n",
       "      <td>Q1</td>\n",
       "      <td>1</td>\n",
       "      <td>0</td>\n",
       "      <td>0</td>\n",
       "      <td>0</td>\n",
       "      <td>1991</td>\n",
       "      <td>21</td>\n",
       "      <td>441</td>\n",
       "      <td>7.816407</td>\n",
       "    </tr>\n",
       "    <tr>\n",
       "      <th>21</th>\n",
       "      <td>Q2_91</td>\n",
       "      <td>3039.522995</td>\n",
       "      <td>Q2</td>\n",
       "      <td>0</td>\n",
       "      <td>1</td>\n",
       "      <td>0</td>\n",
       "      <td>0</td>\n",
       "      <td>1991</td>\n",
       "      <td>22</td>\n",
       "      <td>484</td>\n",
       "      <td>8.019456</td>\n",
       "    </tr>\n",
       "    <tr>\n",
       "      <th>22</th>\n",
       "      <td>Q3_91</td>\n",
       "      <td>3172.115997</td>\n",
       "      <td>Q3</td>\n",
       "      <td>0</td>\n",
       "      <td>0</td>\n",
       "      <td>1</td>\n",
       "      <td>0</td>\n",
       "      <td>1991</td>\n",
       "      <td>23</td>\n",
       "      <td>529</td>\n",
       "      <td>8.062154</td>\n",
       "    </tr>\n",
       "    <tr>\n",
       "      <th>23</th>\n",
       "      <td>Q4_91</td>\n",
       "      <td>2879.000999</td>\n",
       "      <td>Q4</td>\n",
       "      <td>0</td>\n",
       "      <td>0</td>\n",
       "      <td>0</td>\n",
       "      <td>1</td>\n",
       "      <td>1991</td>\n",
       "      <td>24</td>\n",
       "      <td>576</td>\n",
       "      <td>7.965199</td>\n",
       "    </tr>\n",
       "    <tr>\n",
       "      <th>24</th>\n",
       "      <td>Q1_92</td>\n",
       "      <td>2772.000000</td>\n",
       "      <td>Q1</td>\n",
       "      <td>1</td>\n",
       "      <td>0</td>\n",
       "      <td>0</td>\n",
       "      <td>0</td>\n",
       "      <td>1992</td>\n",
       "      <td>25</td>\n",
       "      <td>625</td>\n",
       "      <td>7.927324</td>\n",
       "    </tr>\n",
       "    <tr>\n",
       "      <th>25</th>\n",
       "      <td>Q2_92</td>\n",
       "      <td>3550.000000</td>\n",
       "      <td>Q2</td>\n",
       "      <td>0</td>\n",
       "      <td>1</td>\n",
       "      <td>0</td>\n",
       "      <td>0</td>\n",
       "      <td>1992</td>\n",
       "      <td>26</td>\n",
       "      <td>676</td>\n",
       "      <td>8.174703</td>\n",
       "    </tr>\n",
       "    <tr>\n",
       "      <th>26</th>\n",
       "      <td>Q3_92</td>\n",
       "      <td>3508.000000</td>\n",
       "      <td>Q3</td>\n",
       "      <td>0</td>\n",
       "      <td>0</td>\n",
       "      <td>1</td>\n",
       "      <td>0</td>\n",
       "      <td>1992</td>\n",
       "      <td>27</td>\n",
       "      <td>729</td>\n",
       "      <td>8.162801</td>\n",
       "    </tr>\n",
       "    <tr>\n",
       "      <th>27</th>\n",
       "      <td>Q4_92</td>\n",
       "      <td>3243.859993</td>\n",
       "      <td>Q4</td>\n",
       "      <td>0</td>\n",
       "      <td>0</td>\n",
       "      <td>0</td>\n",
       "      <td>1</td>\n",
       "      <td>1992</td>\n",
       "      <td>28</td>\n",
       "      <td>784</td>\n",
       "      <td>8.084519</td>\n",
       "    </tr>\n",
       "    <tr>\n",
       "      <th>28</th>\n",
       "      <td>Q1_93</td>\n",
       "      <td>3056.000000</td>\n",
       "      <td>Q1</td>\n",
       "      <td>1</td>\n",
       "      <td>0</td>\n",
       "      <td>0</td>\n",
       "      <td>0</td>\n",
       "      <td>1993</td>\n",
       "      <td>29</td>\n",
       "      <td>841</td>\n",
       "      <td>8.024862</td>\n",
       "    </tr>\n",
       "    <tr>\n",
       "      <th>29</th>\n",
       "      <td>Q2_93</td>\n",
       "      <td>3899.000000</td>\n",
       "      <td>Q2</td>\n",
       "      <td>0</td>\n",
       "      <td>1</td>\n",
       "      <td>0</td>\n",
       "      <td>0</td>\n",
       "      <td>1993</td>\n",
       "      <td>30</td>\n",
       "      <td>900</td>\n",
       "      <td>8.268475</td>\n",
       "    </tr>\n",
       "  </tbody>\n",
       "</table>\n",
       "</div>"
      ],
      "text/plain": [
       "   Quarter        Sales Quarters  Q1  Q2  Q3  Q4  year   t  t_square  \\\n",
       "0    Q1_86  1734.827000       Q1   1   0   0   0  1986   1         1   \n",
       "1    Q2_86  2244.960999       Q2   0   1   0   0  1986   2         4   \n",
       "2    Q3_86  2533.804993       Q3   0   0   1   0  1986   3         9   \n",
       "3    Q4_86  2154.962997       Q4   0   0   0   1  1986   4        16   \n",
       "4    Q1_87  1547.818996       Q1   1   0   0   0  1987   5        25   \n",
       "5    Q2_87  2104.411995       Q2   0   1   0   0  1987   6        36   \n",
       "6    Q3_87  2014.362999       Q3   0   0   1   0  1987   7        49   \n",
       "7    Q4_87  1991.746998       Q4   0   0   0   1  1987   8        64   \n",
       "8    Q1_88  1869.049999       Q1   1   0   0   0  1988   9        81   \n",
       "9    Q2_88  2313.631996       Q2   0   1   0   0  1988  10       100   \n",
       "10   Q3_88  2128.320000       Q3   0   0   1   0  1988  11       121   \n",
       "11   Q4_88  2026.828999       Q4   0   0   0   1  1988  12       144   \n",
       "12   Q1_89  1910.603996       Q1   1   0   0   0  1989  13       169   \n",
       "13   Q2_89  2331.164993       Q2   0   1   0   0  1989  14       196   \n",
       "14   Q3_89  2206.549995       Q3   0   0   1   0  1989  15       225   \n",
       "15   Q4_89  2173.967995       Q4   0   0   0   1  1989  16       256   \n",
       "16   Q1_90  2148.278000       Q1   1   0   0   0  1990  17       289   \n",
       "17   Q2_90  2739.307999       Q2   0   1   0   0  1990  18       324   \n",
       "18   Q3_90  2792.753998       Q3   0   0   1   0  1990  19       361   \n",
       "19   Q4_90  2556.009995       Q4   0   0   0   1  1990  20       400   \n",
       "20   Q1_91  2480.973999       Q1   1   0   0   0  1991  21       441   \n",
       "21   Q2_91  3039.522995       Q2   0   1   0   0  1991  22       484   \n",
       "22   Q3_91  3172.115997       Q3   0   0   1   0  1991  23       529   \n",
       "23   Q4_91  2879.000999       Q4   0   0   0   1  1991  24       576   \n",
       "24   Q1_92  2772.000000       Q1   1   0   0   0  1992  25       625   \n",
       "25   Q2_92  3550.000000       Q2   0   1   0   0  1992  26       676   \n",
       "26   Q3_92  3508.000000       Q3   0   0   1   0  1992  27       729   \n",
       "27   Q4_92  3243.859993       Q4   0   0   0   1  1992  28       784   \n",
       "28   Q1_93  3056.000000       Q1   1   0   0   0  1993  29       841   \n",
       "29   Q2_93  3899.000000       Q2   0   1   0   0  1993  30       900   \n",
       "\n",
       "    log_sales  \n",
       "0    7.458663  \n",
       "1    7.716443  \n",
       "2    7.837477  \n",
       "3    7.675529  \n",
       "4    7.344602  \n",
       "5    7.651791  \n",
       "6    7.608058  \n",
       "7    7.596767  \n",
       "8    7.533186  \n",
       "9    7.746574  \n",
       "10   7.663088  \n",
       "11   7.614228  \n",
       "12   7.555175  \n",
       "13   7.754123  \n",
       "14   7.699185  \n",
       "15   7.684309  \n",
       "16   7.672422  \n",
       "17   7.915461  \n",
       "18   7.934783  \n",
       "19   7.846203  \n",
       "20   7.816407  \n",
       "21   8.019456  \n",
       "22   8.062154  \n",
       "23   7.965199  \n",
       "24   7.927324  \n",
       "25   8.174703  \n",
       "26   8.162801  \n",
       "27   8.084519  \n",
       "28   8.024862  \n",
       "29   8.268475  "
      ]
     },
     "execution_count": 25,
     "metadata": {},
     "output_type": "execute_result"
    }
   ],
   "source": [
    "x_train = cc_data.head(30)\n",
    "x_test  = cc_data.tail(12)\n",
    "x_train"
   ]
  },
  {
   "cell_type": "markdown",
   "id": "964ec8c9",
   "metadata": {
    "ExecuteTime": {
     "end_time": "2022-12-04T15:29:57.095555Z",
     "start_time": "2022-12-04T15:29:57.076200Z"
    }
   },
   "source": [
    "### Step-6 : Build different models for Forecasting"
   ]
  },
  {
   "cell_type": "markdown",
   "id": "6c29f2a9",
   "metadata": {
    "ExecuteTime": {
     "end_time": "2022-12-05T18:10:22.651794Z",
     "start_time": "2022-12-05T18:10:22.639827Z"
    }
   },
   "source": [
    "#### Evaluation Metric MAPE"
   ]
  },
  {
   "cell_type": "code",
   "execution_count": 26,
   "id": "a0ed069a",
   "metadata": {
    "ExecuteTime": {
     "end_time": "2022-12-07T06:45:07.954823Z",
     "start_time": "2022-12-07T06:45:07.923277Z"
    }
   },
   "outputs": [],
   "source": [
    "def MAPE(pred,org):\n",
    "    temp = np.abs((pred-org)/org)*100\n",
    "    return np.mean(temp)"
   ]
  },
  {
   "cell_type": "markdown",
   "id": "78fb47bf",
   "metadata": {},
   "source": [
    "### Step-6.1 : Data-Driven Techniques"
   ]
  },
  {
   "cell_type": "markdown",
   "id": "dbb828cd",
   "metadata": {},
   "source": [
    "#### Simple Exponential Method"
   ]
  },
  {
   "cell_type": "code",
   "execution_count": 27,
   "id": "c47ff19f",
   "metadata": {
    "ExecuteTime": {
     "end_time": "2022-12-07T06:45:08.018405Z",
     "start_time": "2022-12-07T06:45:07.959357Z"
    }
   },
   "outputs": [
    {
     "name": "stdout",
     "output_type": "stream",
     "text": [
      "Mean Absolute Percentage Error :  22.05\n",
      "Root Mean Square Error :  1153.7\n"
     ]
    }
   ],
   "source": [
    "model_ses = SimpleExpSmoothing(x_train[\"Sales\"]).fit(smoothing_level=0.2)\n",
    "pred_ses = model_ses.predict(start = x_test.index[0],end = x_test.index[-1])\n",
    "mape_ses = np.round(MAPE(pred_ses,x_test.Sales),2)  \n",
    "rmse_ses = np.round(np.sqrt(mean_squared_error(pred_ses,x_test.Sales)),2)\n",
    "print(\"Mean Absolute Percentage Error : \",mape_ses)\n",
    "print(\"Root Mean Square Error : \",rmse_ses)"
   ]
  },
  {
   "cell_type": "markdown",
   "id": "bedc9a6f",
   "metadata": {},
   "source": [
    "#### Holt's Method (Double Exponential Method)"
   ]
  },
  {
   "cell_type": "code",
   "execution_count": 28,
   "id": "fcaced9f",
   "metadata": {
    "ExecuteTime": {
     "end_time": "2022-12-07T06:45:08.113119Z",
     "start_time": "2022-12-07T06:45:08.041104Z"
    }
   },
   "outputs": [
    {
     "name": "stdout",
     "output_type": "stream",
     "text": [
      "Mean Absolute Percentage Error :  11.21\n",
      "Root Mean Square Error :  559.52\n"
     ]
    }
   ],
   "source": [
    "model_h = Holt(x_train[\"Sales\"]).fit(smoothing_level=0.8, smoothing_slope=0.2)\n",
    "pred_h = model_h.predict(start = x_test.index[0],end = x_test.index[-1])\n",
    "mape_h = np.round(MAPE(pred_h,x_test.Sales),2)\n",
    "rmse_h = np.round(np.sqrt(mean_squared_error(pred_h,x_test.Sales)),2)\n",
    "print(\"Mean Absolute Percentage Error : \",mape_h)\n",
    "print(\"Root Mean Square Error : \",rmse_h)"
   ]
  },
  {
   "cell_type": "markdown",
   "id": "ef7fb9f4",
   "metadata": {},
   "source": [
    "#### Holt-Winter's Exponential Smoothing with Additive Seasonality and Trend (Triple Exponential Method)"
   ]
  },
  {
   "cell_type": "code",
   "execution_count": 29,
   "id": "64eb518f",
   "metadata": {
    "ExecuteTime": {
     "end_time": "2022-12-07T06:45:08.571918Z",
     "start_time": "2022-12-07T06:45:08.114997Z"
    }
   },
   "outputs": [
    {
     "name": "stdout",
     "output_type": "stream",
     "text": [
      "Mean Absolute Percentage Error :  5.32\n",
      "Root Mean Square Error :  245.25\n"
     ]
    }
   ],
   "source": [
    "model_hw_as_at = ExponentialSmoothing(x_train[\"Sales\"],seasonal=\"add\",trend=\"add\",seasonal_periods=12).fit(optimized=True)\n",
    "pred_hw_as_at = model_hw_as_at.predict(start = x_test.index[0],end = x_test.index[-1])\n",
    "mape_hw_as_at = np.round(MAPE(pred_hw_as_at,x_test.Sales),2)\n",
    "rmse_hw_as_at = np.round(np.sqrt(mean_squared_error(pred_hw_as_at,x_test.Sales)),2)\n",
    "print(\"Mean Absolute Percentage Error : \",mape_hw_as_at)\n",
    "print(\"Root Mean Square Error : \",rmse_hw_as_at)"
   ]
  },
  {
   "cell_type": "markdown",
   "id": "35d3dd9c",
   "metadata": {},
   "source": [
    "#### Holt-Winter's Exponential Smoothing with Multiplicative Seasonality and Additive Trend (Triple Exponential Method)"
   ]
  },
  {
   "cell_type": "code",
   "execution_count": 30,
   "id": "b8b598bd",
   "metadata": {
    "ExecuteTime": {
     "end_time": "2022-12-07T06:45:09.093775Z",
     "start_time": "2022-12-07T06:45:08.577416Z"
    }
   },
   "outputs": [
    {
     "name": "stdout",
     "output_type": "stream",
     "text": [
      "Mean Absolute Percentage Error :  9.33\n",
      "Root Mean Square Error :  470.62\n"
     ]
    }
   ],
   "source": [
    "model_hw_ms_at = ExponentialSmoothing(x_train[\"Sales\"],seasonal=\"mul\",trend=\"add\",seasonal_periods=12).fit(optimized=True)\n",
    "pred_hw_ms_at = model_hw_ms_at.predict(start = x_test.index[0],end = x_test.index[-1])\n",
    "mape_hw_ms_at = np.round(MAPE(pred_hw_ms_at,x_test.Sales),2)\n",
    "rmse_hw_ms_at = np.round(np.sqrt(mean_squared_error(pred_hw_ms_at,x_test.Sales)),2)\n",
    "print(\"Mean Absolute Percentage Error : \",mape_hw_ms_at)\n",
    "print(\"Root Mean Square Error : \",rmse_hw_ms_at)"
   ]
  },
  {
   "cell_type": "markdown",
   "id": "2ae6db1d",
   "metadata": {},
   "source": [
    "#### Holt-Winter's Exponential Smoothing with Additive Seasonality and Multiplicative Trend (Triple Exponential Method)"
   ]
  },
  {
   "cell_type": "code",
   "execution_count": 31,
   "id": "bb8fef5a",
   "metadata": {
    "ExecuteTime": {
     "end_time": "2022-12-07T06:45:09.647434Z",
     "start_time": "2022-12-07T06:45:09.099187Z"
    }
   },
   "outputs": [
    {
     "name": "stdout",
     "output_type": "stream",
     "text": [
      "Mean Absolute Percentage Error :  5.52\n",
      "Root Mean Square Error :  243.53\n"
     ]
    }
   ],
   "source": [
    "model_hw_as_mt = ExponentialSmoothing(x_train[\"Sales\"],seasonal=\"add\",trend=\"mul\",seasonal_periods=12).fit(optimized=True)\n",
    "pred_hw_as_mt = model_hw_as_mt.predict(start = x_test.index[0],end = x_test.index[-1])\n",
    "mape_hw_as_mt = np.round(MAPE(pred_hw_as_mt,x_test.Sales),2)\n",
    "rmse_hw_as_mt =np.round(np.sqrt(mean_squared_error(pred_hw_as_mt,x_test.Sales)),2)\n",
    "print(\"Mean Absolute Percentage Error : \",mape_hw_as_mt)\n",
    "print(\"Root Mean Square Error : \",rmse_hw_as_mt)"
   ]
  },
  {
   "cell_type": "markdown",
   "id": "82e1b1fd",
   "metadata": {},
   "source": [
    "#### Holt-Winter's Exponential Smoothing with Multiplicative Seasonality and Multiplicative Trend (Triple Exponential Method)"
   ]
  },
  {
   "cell_type": "code",
   "execution_count": 32,
   "id": "625a7916",
   "metadata": {
    "ExecuteTime": {
     "end_time": "2022-12-07T06:45:10.327744Z",
     "start_time": "2022-12-07T06:45:09.653492Z"
    }
   },
   "outputs": [
    {
     "name": "stdout",
     "output_type": "stream",
     "text": [
      "Mean Absolute Percentage Error :  3.64\n",
      "Root Mean Square Error :  182.99\n"
     ]
    }
   ],
   "source": [
    "model_hw_ms_mt = ExponentialSmoothing(x_train[\"Sales\"],seasonal=\"mul\",trend=\"mul\",seasonal_periods=12).fit(optimized=True)\n",
    "pred_hw_ms_mt = model_hw_ms_mt.predict(start = x_test.index[0],end = x_test.index[-1])\n",
    "mape_hw_ms_mt = np.round(MAPE(pred_hw_ms_mt,x_test.Sales),2)\n",
    "rmse_hw_ms_mt = np.round(np.sqrt(mean_squared_error(pred_hw_ms_mt,x_test.Sales)),2)\n",
    "print(\"Mean Absolute Percentage Error : \",mape_hw_ms_mt)\n",
    "print(\"Root Mean Square Error : \",rmse_hw_ms_mt)"
   ]
  },
  {
   "cell_type": "code",
   "execution_count": 33,
   "id": "7581572d",
   "metadata": {
    "ExecuteTime": {
     "end_time": "2022-12-07T06:45:10.359779Z",
     "start_time": "2022-12-07T06:45:10.327744Z"
    }
   },
   "outputs": [],
   "source": [
    "# grid search ARIMA parameters for a time series\n",
    "\n",
    "# evaluate an ARIMA model for a given order (p,d,q) and return RMSE\n",
    "def evaluate_arima_model(X, arima_order):\n",
    "# prepare training dataset\n",
    "    X = X.astype('float32')\n",
    "    train_size = int(len(X) * 0.70)\n",
    "    train, test = X[0:train_size], X[train_size:]\n",
    "    history = [x for x in train]\n",
    "# make predictions\n",
    "    predictions = list()\n",
    "    for t in range(len(test)):\n",
    "        model = ARIMA(history, order=arima_order)\n",
    "        model_fit = model.fit()\n",
    "        yhat = model_fit.forecast()[0]\n",
    "        predictions.append(yhat)\n",
    "        history.append(test[t])\n",
    "# calculate out of sample error\n",
    "    rmse = sqrt(mean_squared_error(test, predictions))\n",
    "    return rmse"
   ]
  },
  {
   "cell_type": "code",
   "execution_count": 34,
   "id": "4352c29d",
   "metadata": {
    "ExecuteTime": {
     "end_time": "2022-12-07T06:45:10.392225Z",
     "start_time": "2022-12-07T06:45:10.359779Z"
    }
   },
   "outputs": [],
   "source": [
    "# evaluate combinations of p, d and q values for an ARIMA model\n",
    "def evaluate_models(dataset, p_values, d_values, q_values):\n",
    "    dataset = dataset.astype('float32')\n",
    "    best_score, best_cfg = float('inf'), None\n",
    "    for p in p_values:\n",
    "        for d in d_values:\n",
    "            for q in q_values:\n",
    "                order = (p,d,q)\n",
    "                try:\n",
    "                    rmse = evaluate_arima_model(train, order)\n",
    "                    if rmse < best_score:\n",
    "                        best_score, best_cfg = rmse, order\n",
    "                    print('ARIMA%s RMSE=%.3f' % (order,rmse))\n",
    "                except:\n",
    "                    continue\n",
    "    print('Best ARIMA%s RMSE=%.3f' % (best_cfg, best_score))  "
   ]
  },
  {
   "cell_type": "code",
   "execution_count": 35,
   "id": "81af286c",
   "metadata": {
    "ExecuteTime": {
     "end_time": "2022-12-07T06:46:38.346737Z",
     "start_time": "2022-12-07T06:45:10.398623Z"
    }
   },
   "outputs": [
    {
     "name": "stdout",
     "output_type": "stream",
     "text": [
      "ARIMA(0, 0, 0) RMSE=1574.797\n",
      "ARIMA(0, 0, 1) RMSE=1080.505\n",
      "ARIMA(0, 0, 2) RMSE=664.875\n",
      "ARIMA(0, 1, 0) RMSE=601.060\n",
      "ARIMA(0, 1, 1) RMSE=562.618\n",
      "ARIMA(0, 1, 2) RMSE=542.497\n",
      "ARIMA(0, 2, 0) RMSE=842.628\n",
      "ARIMA(0, 2, 1) RMSE=593.107\n",
      "ARIMA(0, 2, 2) RMSE=476.146\n",
      "ARIMA(1, 0, 0) RMSE=641.904\n",
      "ARIMA(1, 0, 1) RMSE=589.743\n",
      "ARIMA(1, 0, 2) RMSE=568.900\n",
      "ARIMA(1, 1, 0) RMSE=600.086\n",
      "ARIMA(1, 1, 1) RMSE=567.044\n",
      "ARIMA(1, 1, 2) RMSE=543.736\n",
      "ARIMA(1, 2, 0) RMSE=847.502\n",
      "ARIMA(1, 2, 1) RMSE=637.202\n",
      "ARIMA(1, 2, 2) RMSE=562.783\n",
      "ARIMA(2, 0, 0) RMSE=644.800\n",
      "ARIMA(2, 0, 1) RMSE=629.142\n",
      "ARIMA(2, 0, 2) RMSE=570.164\n",
      "ARIMA(2, 1, 0) RMSE=458.597\n",
      "ARIMA(2, 1, 1) RMSE=489.849\n",
      "ARIMA(2, 1, 2) RMSE=362.937\n",
      "ARIMA(2, 2, 0) RMSE=699.722\n",
      "ARIMA(2, 2, 1) RMSE=418.129\n",
      "ARIMA(2, 2, 2) RMSE=368.542\n",
      "Best ARIMA(2, 1, 2) RMSE=362.937\n"
     ]
    }
   ],
   "source": [
    "# evaluate parameters\n",
    "train = pd.read_excel('CocaCola_Sales_Rawdata.xlsx', index_col=0, parse_dates=True, squeeze=True)\n",
    "p_values = range(0, 3)\n",
    "d_values = range(0, 3)\n",
    "q_values = range(0, 3)\n",
    "evaluate_models(train.values, p_values, d_values, q_values)"
   ]
  },
  {
   "cell_type": "code",
   "execution_count": 36,
   "id": "e046bc13",
   "metadata": {
    "ExecuteTime": {
     "end_time": "2022-12-07T06:46:38.378650Z",
     "start_time": "2022-12-07T06:46:38.349622Z"
    }
   },
   "outputs": [],
   "source": [
    "# prepare data\n",
    "X = x_train.copy()\n",
    "X = X.iloc[:,:2]\n",
    "X = X.set_index('Quarter')\n",
    "X = X.astype('float32') "
   ]
  },
  {
   "cell_type": "code",
   "execution_count": 37,
   "id": "e503fe24",
   "metadata": {
    "ExecuteTime": {
     "end_time": "2022-12-07T06:46:39.280899Z",
     "start_time": "2022-12-07T06:46:38.391206Z"
    }
   },
   "outputs": [
    {
     "name": "stdout",
     "output_type": "stream",
     "text": [
      "Mean Absolute Percentage Error :  13.6\n",
      "Root Mean Square Error :  713.82\n"
     ]
    }
   ],
   "source": [
    "# fit model\n",
    "model_arima = ARIMA(X, order=(2,1,2)).fit()\n",
    "pred_arima = model_arima.predict(start = x_test.index[0],end = x_test.index[-1])\n",
    "mape_arima = np.round(MAPE(pred_arima.values,x_test.Sales.values),2)\n",
    "rmse_arima = np.round(np.sqrt(mean_squared_error(pred_arima,x_test.Sales)),2)\n",
    "print(\"Mean Absolute Percentage Error : \",mape_arima)\n",
    "print(\"Root Mean Square Error : \",rmse_arima)"
   ]
  },
  {
   "cell_type": "code",
   "execution_count": 38,
   "id": "128bdd8d",
   "metadata": {
    "ExecuteTime": {
     "end_time": "2022-12-07T06:46:44.966780Z",
     "start_time": "2022-12-07T06:46:39.282284Z"
    },
    "scrolled": true
   },
   "outputs": [
    {
     "data": {
      "image/png": "[encoded data removed]",
      "text/plain": [
       "<Figure size 864x576 with 4 Axes>"
      ]
     },
     "execution_count": 38,
     "metadata": {},
     "output_type": "execute_result"
    },
    {
     "data": {
      "image/png": "[encoded data removed]",
      "text/plain": [
       "<Figure size 864x576 with 4 Axes>"
      ]
     },
     "metadata": {},
     "output_type": "display_data"
    }
   ],
   "source": [
    "model_arima.plot_diagnostics(figsize=(12,8)) "
   ]
  },
  {
   "cell_type": "markdown",
   "id": "30050967",
   "metadata": {},
   "source": [
    "### Step-6.1.1 : Comparing the results"
   ]
  },
  {
   "cell_type": "code",
   "execution_count": 39,
   "id": "366850cc",
   "metadata": {
    "ExecuteTime": {
     "end_time": "2022-12-07T06:46:44.997754Z",
     "start_time": "2022-12-07T06:46:44.973892Z"
    }
   },
   "outputs": [],
   "source": [
    "pd.set_option('max_colwidth',100)"
   ]
  },
  {
   "cell_type": "code",
   "execution_count": 40,
   "id": "4d69828a",
   "metadata": {
    "ExecuteTime": {
     "end_time": "2022-12-07T06:46:45.077658Z",
     "start_time": "2022-12-07T06:46:45.001608Z"
    }
   },
   "outputs": [
    {
     "data": {
      "text/html": [
       "<div>\n",
       "<style scoped>\n",
       "    .dataframe tbody tr th:only-of-type {\n",
       "        vertical-align: middle;\n",
       "    }\n",
       "\n",
       "    .dataframe tbody tr th {\n",
       "        vertical-align: top;\n",
       "    }\n",
       "\n",
       "    .dataframe thead th {\n",
       "        text-align: right;\n",
       "    }\n",
       "</style>\n",
       "<table border=\"1\" class=\"dataframe\">\n",
       "  <thead>\n",
       "    <tr style=\"text-align: right;\">\n",
       "      <th></th>\n",
       "      <th>Model</th>\n",
       "      <th>RMSE_Values</th>\n",
       "    </tr>\n",
       "  </thead>\n",
       "  <tbody>\n",
       "    <tr>\n",
       "      <th>5</th>\n",
       "      <td>H-W's Exp. Smoothing with Mul. Seasonality and Mul. Trend</td>\n",
       "      <td>182.99</td>\n",
       "    </tr>\n",
       "    <tr>\n",
       "      <th>4</th>\n",
       "      <td>H-W's Exp. Smoothing with Add. Seasonality and Mul. Trend</td>\n",
       "      <td>243.53</td>\n",
       "    </tr>\n",
       "    <tr>\n",
       "      <th>2</th>\n",
       "      <td>H-W's Exp. Smooothing with Add. Seasonality and Trend</td>\n",
       "      <td>245.25</td>\n",
       "    </tr>\n",
       "    <tr>\n",
       "      <th>3</th>\n",
       "      <td>H-W's Exp. Smoothing with Mul. Seasonality and Add. Trend</td>\n",
       "      <td>470.62</td>\n",
       "    </tr>\n",
       "    <tr>\n",
       "      <th>1</th>\n",
       "      <td>Holt's Method</td>\n",
       "      <td>559.52</td>\n",
       "    </tr>\n",
       "    <tr>\n",
       "      <th>6</th>\n",
       "      <td>ARIMA</td>\n",
       "      <td>713.82</td>\n",
       "    </tr>\n",
       "    <tr>\n",
       "      <th>0</th>\n",
       "      <td>SES Method</td>\n",
       "      <td>1153.70</td>\n",
       "    </tr>\n",
       "  </tbody>\n",
       "</table>\n",
       "</div>"
      ],
      "text/plain": [
       "                                                       Model  RMSE_Values\n",
       "5  H-W's Exp. Smoothing with Mul. Seasonality and Mul. Trend       182.99\n",
       "4  H-W's Exp. Smoothing with Add. Seasonality and Mul. Trend       243.53\n",
       "2      H-W's Exp. Smooothing with Add. Seasonality and Trend       245.25\n",
       "3  H-W's Exp. Smoothing with Mul. Seasonality and Add. Trend       470.62\n",
       "1                                              Holt's Method       559.52\n",
       "6                                                      ARIMA       713.82\n",
       "0                                                 SES Method      1153.70"
      ]
     },
     "execution_count": 40,
     "metadata": {},
     "output_type": "execute_result"
    }
   ],
   "source": [
    "model_list                = [\"SES Method\",\"Holt's Method\",\n",
    "                             \"H-W's Exp. Smooothing with Add. Seasonality and Trend\",\n",
    "                             \"H-W's Exp. Smoothing with Mul. Seasonality and Add. Trend\",\n",
    "                             \"H-W's Exp. Smoothing with Add. Seasonality and Mul. Trend\",\n",
    "                             \"H-W's Exp. Smoothing with Mul. Seasonality and Mul. Trend\",\n",
    "                             \"ARIMA\"\n",
    "                            ]\n",
    "rmse_val_list             = [rmse_ses,rmse_h,rmse_hw_as_at,rmse_hw_ms_at,rmse_hw_as_mt,rmse_hw_ms_mt\n",
    "                             ,rmse_arima]\n",
    "\n",
    "table_rmse                = pd.DataFrame(columns=['Model','RMSE_Values'])\n",
    "table_rmse['Model']       = model_list\n",
    "table_rmse['RMSE_Values'] = rmse_val_list\n",
    "table_rmse.sort_values('RMSE_Values')"
   ]
  },
  {
   "cell_type": "code",
   "execution_count": 41,
   "id": "7553f8b8",
   "metadata": {
    "ExecuteTime": {
     "end_time": "2022-12-07T06:46:45.838810Z",
     "start_time": "2022-12-07T06:46:45.085711Z"
    }
   },
   "outputs": [
    {
     "data": {
      "image/png": "[encoded data removed]",
      "text/plain": [
       "<Figure size 720x576 with 1 Axes>"
      ]
     },
     "metadata": {},
     "output_type": "display_data"
    }
   ],
   "source": [
    "plt.figure(figsize=(10,8))\n",
    "ax = sb.barplot(x='RMSE_Values',y='Model',data=table_rmse,order=table_rmse.sort_values('RMSE_Values').Model)\n",
    "for i in ax.containers:\n",
    "    ax.bar_label(i)"
   ]
  },
  {
   "cell_type": "markdown",
   "id": "6ec34d48",
   "metadata": {},
   "source": [
    "### Step-6.2 : Model-Based Techniques"
   ]
  },
  {
   "cell_type": "markdown",
   "id": "d318afa3",
   "metadata": {},
   "source": [
    "#### Linear Model"
   ]
  },
  {
   "cell_type": "code",
   "execution_count": 42,
   "id": "bc8127da",
   "metadata": {
    "ExecuteTime": {
     "end_time": "2022-12-07T06:46:45.902035Z",
     "start_time": "2022-12-07T06:46:45.840178Z"
    }
   },
   "outputs": [
    {
     "data": {
      "text/plain": [
       "545.51"
      ]
     },
     "execution_count": 42,
     "metadata": {},
     "output_type": "execute_result"
    }
   ],
   "source": [
    "model_lin     = smf.ols('Sales~t',data=x_train).fit()\n",
    "predicted_lin = pd.Series(model_lin.predict(pd.DataFrame(x_test['t'])))\n",
    "rmse_lin      = np.sqrt(np.mean(np.array(x_test['Sales'])-np.array(predicted_lin))**2)\n",
    "rmse_lin      = round(rmse_lin,2)\n",
    "rmse_lin"
   ]
  },
  {
   "cell_type": "markdown",
   "id": "db75a02e",
   "metadata": {},
   "source": [
    "#### Exponential Model"
   ]
  },
  {
   "cell_type": "code",
   "execution_count": 43,
   "id": "6197208b",
   "metadata": {
    "ExecuteTime": {
     "end_time": "2022-12-07T06:46:45.965404Z",
     "start_time": "2022-12-07T06:46:45.907226Z"
    }
   },
   "outputs": [
    {
     "data": {
      "text/plain": [
       "3862.67"
      ]
     },
     "execution_count": 43,
     "metadata": {},
     "output_type": "execute_result"
    }
   ],
   "source": [
    "model_exp = smf.ols('log_sales~t',data=x_train).fit()\n",
    "pred_exp  = pd.Series(model_exp.predict(pd.DataFrame(x_test['t'])))\n",
    "rmse_exp  = np.sqrt(np.mean((np.array(x_test['log_sales'])-np.array(np.exp(pred_exp)))**2))\n",
    "rmse_exp  = round(rmse_exp,2)\n",
    "rmse_exp"
   ]
  },
  {
   "cell_type": "markdown",
   "id": "61b36493",
   "metadata": {},
   "source": [
    "#### Quadratic "
   ]
  },
  {
   "cell_type": "code",
   "execution_count": 44,
   "id": "4e70b5f7",
   "metadata": {
    "ExecuteTime": {
     "end_time": "2022-12-07T06:46:46.029196Z",
     "start_time": "2022-12-07T06:46:45.970451Z"
    }
   },
   "outputs": [
    {
     "data": {
      "text/plain": [
       "646.27"
      ]
     },
     "execution_count": 44,
     "metadata": {},
     "output_type": "execute_result"
    }
   ],
   "source": [
    "model_quad = smf.ols('Sales~t+t_square',data=x_train).fit()\n",
    "pred_quad = pd.Series(model_quad.predict(x_test[[\"t\",\"t_square\"]]))\n",
    "rmse_quad = np.sqrt(np.mean((np.array(x_test['Sales'])-np.array(pred_quad))**2))\n",
    "rmse_quad = round(rmse_quad,2)\n",
    "rmse_quad"
   ]
  },
  {
   "cell_type": "markdown",
   "id": "ed123afd",
   "metadata": {},
   "source": [
    "#### Additive seasonality "
   ]
  },
  {
   "cell_type": "code",
   "execution_count": 45,
   "id": "55b40445",
   "metadata": {
    "ExecuteTime": {
     "end_time": "2022-12-07T06:46:46.108477Z",
     "start_time": "2022-12-07T06:46:46.033998Z"
    }
   },
   "outputs": [
    {
     "data": {
      "text/plain": [
       "1778.01"
      ]
     },
     "execution_count": 45,
     "metadata": {},
     "output_type": "execute_result"
    }
   ],
   "source": [
    "model_add_sea = smf.ols('Sales~Q1+Q2+Q3+Q4',data=x_train).fit()\n",
    "pred_add_sea = pd.Series(model_add_sea.predict(x_test[['Q1','Q2','Q3','Q4']]))\n",
    "rmse_add_sea = np.sqrt(np.mean((np.array(x_test['Sales'])-np.array(pred_add_sea))**2))\n",
    "rmse_add_sea = round(rmse_add_sea,2)\n",
    "rmse_add_sea"
   ]
  },
  {
   "cell_type": "markdown",
   "id": "ff95e839",
   "metadata": {},
   "source": [
    "#### Additive Seasonality Quadratic "
   ]
  },
  {
   "cell_type": "code",
   "execution_count": 46,
   "id": "1d426800",
   "metadata": {
    "ExecuteTime": {
     "end_time": "2022-12-07T06:46:46.187745Z",
     "start_time": "2022-12-07T06:46:46.113930Z"
    }
   },
   "outputs": [
    {
     "data": {
      "text/plain": [
       "586.05"
      ]
     },
     "execution_count": 46,
     "metadata": {},
     "output_type": "execute_result"
    }
   ],
   "source": [
    "model_add_sea_quad = smf.ols('Sales~t+t_square+Q1+Q2+Q3+Q4',data=x_train).fit()\n",
    "pred_add_sea_quad = pd.Series(model_add_sea_quad.predict(x_test[['Q1','Q2','Q3','Q4','t','t_square']]))\n",
    "rmse_add_sea_quad = np.sqrt(np.mean((np.array(x_test['Sales'])-np.array(pred_add_sea_quad))**2))\n",
    "rmse_add_sea_quad = round(rmse_add_sea_quad,2)\n",
    "rmse_add_sea_quad"
   ]
  },
  {
   "cell_type": "markdown",
   "id": "5b02b913",
   "metadata": {
    "ExecuteTime": {
     "end_time": "2022-12-04T16:54:14.936293Z",
     "start_time": "2022-12-04T16:54:14.919819Z"
    }
   },
   "source": [
    "#### Multiplicative Seasonality"
   ]
  },
  {
   "cell_type": "code",
   "execution_count": 47,
   "id": "6730f37f",
   "metadata": {
    "ExecuteTime": {
     "end_time": "2022-12-07T06:46:46.251713Z",
     "start_time": "2022-12-07T06:46:46.187745Z"
    }
   },
   "outputs": [
    {
     "data": {
      "text/plain": [
       "1828.92"
      ]
     },
     "execution_count": 47,
     "metadata": {},
     "output_type": "execute_result"
    }
   ],
   "source": [
    "model_mul_sea = smf.ols('log_sales~Q1+Q2+Q3+Q4',\n",
    "                  data = x_train).fit()\n",
    "pred_mul_sea = pd.Series(model_mul_sea.predict(x_test))\n",
    "rmse_mul_sea = np.sqrt(np.mean((np.array(x_test['Sales'])-np.array(np.exp(pred_mul_sea)))**2))\n",
    "rmse_mul_sea = round(rmse_mul_sea,2)\n",
    "rmse_mul_sea"
   ]
  },
  {
   "cell_type": "markdown",
   "id": "8a1c1504",
   "metadata": {},
   "source": [
    "#### Multiplicative Additive Seasonality "
   ]
  },
  {
   "cell_type": "code",
   "execution_count": 48,
   "id": "622d929a",
   "metadata": {
    "ExecuteTime": {
     "end_time": "2022-12-07T06:46:46.331095Z",
     "start_time": "2022-12-07T06:46:46.251713Z"
    }
   },
   "outputs": [
    {
     "data": {
      "text/plain": [
       "410.25"
      ]
     },
     "execution_count": 48,
     "metadata": {},
     "output_type": "execute_result"
    }
   ],
   "source": [
    "model_mul_add_sea = smf.ols('log_sales~t+Q1+Q2+Q3+Q4',data = x_train).fit()\n",
    "pred_mul_add_sea = pd.Series(model_mul_add_sea.predict(x_test))\n",
    "rmse_mul_add_sea = np.sqrt(np.mean((np.array(x_test['Sales'])-np.array(np.exp(pred_mul_add_sea)))**2))\n",
    "rmse_mul_add_sea = round(rmse_mul_add_sea,2)\n",
    "rmse_mul_add_sea"
   ]
  },
  {
   "cell_type": "markdown",
   "id": "dbee54cd",
   "metadata": {},
   "source": [
    "### Step-6.2.1 : Comparing the results"
   ]
  },
  {
   "cell_type": "code",
   "execution_count": 49,
   "id": "9d958626",
   "metadata": {
    "ExecuteTime": {
     "end_time": "2022-12-07T06:46:46.377695Z",
     "start_time": "2022-12-07T06:46:46.331095Z"
    }
   },
   "outputs": [
    {
     "data": {
      "text/html": [
       "<div>\n",
       "<style scoped>\n",
       "    .dataframe tbody tr th:only-of-type {\n",
       "        vertical-align: middle;\n",
       "    }\n",
       "\n",
       "    .dataframe tbody tr th {\n",
       "        vertical-align: top;\n",
       "    }\n",
       "\n",
       "    .dataframe thead th {\n",
       "        text-align: right;\n",
       "    }\n",
       "</style>\n",
       "<table border=\"1\" class=\"dataframe\">\n",
       "  <thead>\n",
       "    <tr style=\"text-align: right;\">\n",
       "      <th></th>\n",
       "      <th>Model</th>\n",
       "      <th>RMSE Values</th>\n",
       "    </tr>\n",
       "  </thead>\n",
       "  <tbody>\n",
       "    <tr>\n",
       "      <th>6</th>\n",
       "      <td>Multiplicative Additive Seasonality</td>\n",
       "      <td>410.25</td>\n",
       "    </tr>\n",
       "    <tr>\n",
       "      <th>0</th>\n",
       "      <td>Linear</td>\n",
       "      <td>545.51</td>\n",
       "    </tr>\n",
       "    <tr>\n",
       "      <th>4</th>\n",
       "      <td>Additive Seasonality Quadratic</td>\n",
       "      <td>586.05</td>\n",
       "    </tr>\n",
       "    <tr>\n",
       "      <th>2</th>\n",
       "      <td>Quadratic</td>\n",
       "      <td>646.27</td>\n",
       "    </tr>\n",
       "    <tr>\n",
       "      <th>3</th>\n",
       "      <td>Additive Seasonality</td>\n",
       "      <td>1778.01</td>\n",
       "    </tr>\n",
       "    <tr>\n",
       "      <th>5</th>\n",
       "      <td>Multiplicative Seasonality</td>\n",
       "      <td>1828.92</td>\n",
       "    </tr>\n",
       "    <tr>\n",
       "      <th>1</th>\n",
       "      <td>Exponential</td>\n",
       "      <td>3862.67</td>\n",
       "    </tr>\n",
       "  </tbody>\n",
       "</table>\n",
       "</div>"
      ],
      "text/plain": [
       "                                 Model  RMSE Values\n",
       "6  Multiplicative Additive Seasonality       410.25\n",
       "0                               Linear       545.51\n",
       "4       Additive Seasonality Quadratic       586.05\n",
       "2                            Quadratic       646.27\n",
       "3                 Additive Seasonality      1778.01\n",
       "5           Multiplicative Seasonality      1828.92\n",
       "1                          Exponential      3862.67"
      ]
     },
     "execution_count": 49,
     "metadata": {},
     "output_type": "execute_result"
    }
   ],
   "source": [
    "model_list                = [\"Linear\",\"Exponential\",\"Quadratic\",\"Additive Seasonality\",\"Additive Seasonality Quadratic\",\"Multiplicative Seasonality\",\n",
    "                                 \"Multiplicative Additive Seasonality\"]\n",
    "rmse_val_list             = [rmse_lin,rmse_exp,rmse_quad,rmse_add_sea,rmse_add_sea_quad,rmse_mul_sea,\n",
    "                                 rmse_mul_add_sea]\n",
    "\n",
    "table_rmse                = pd.DataFrame(columns=['Model','RMSE Values'])\n",
    "table_rmse['Model']       = model_list\n",
    "table_rmse['RMSE Values'] = rmse_val_list\n",
    "\n",
    "table_rmse.sort_values(by=['RMSE Values'])"
   ]
  },
  {
   "cell_type": "markdown",
   "id": "e00e44ca",
   "metadata": {},
   "source": [
    "### Step-7 : Predict for new time period"
   ]
  },
  {
   "cell_type": "markdown",
   "id": "c0ed3b1f",
   "metadata": {
    "ExecuteTime": {
     "end_time": "2022-12-04T17:07:55.207902Z",
     "start_time": "2022-12-04T17:07:55.188988Z"
    }
   },
   "source": [
    "#### Out of all the models, Holt-Winter's Exponential Smoothing with Multiplicative Seasonality and Multiplicative Trend (Triple Exponential Method) gave the lowest error. Hence use this model for forecasting."
   ]
  },
  {
   "cell_type": "code",
   "execution_count": 50,
   "id": "0110f8bb",
   "metadata": {
    "ExecuteTime": {
     "end_time": "2022-12-07T06:46:46.409448Z",
     "start_time": "2022-12-07T06:46:46.384116Z"
    }
   },
   "outputs": [
    {
     "data": {
      "text/html": [
       "<div>\n",
       "<style scoped>\n",
       "    .dataframe tbody tr th:only-of-type {\n",
       "        vertical-align: middle;\n",
       "    }\n",
       "\n",
       "    .dataframe tbody tr th {\n",
       "        vertical-align: top;\n",
       "    }\n",
       "\n",
       "    .dataframe thead th {\n",
       "        text-align: right;\n",
       "    }\n",
       "</style>\n",
       "<table border=\"1\" class=\"dataframe\">\n",
       "  <thead>\n",
       "    <tr style=\"text-align: right;\">\n",
       "      <th></th>\n",
       "      <th>Quarter</th>\n",
       "      <th>Sales</th>\n",
       "    </tr>\n",
       "  </thead>\n",
       "  <tbody>\n",
       "    <tr>\n",
       "      <th>36</th>\n",
       "      <td>Q1_95</td>\n",
       "      <td>3854.0</td>\n",
       "    </tr>\n",
       "    <tr>\n",
       "      <th>37</th>\n",
       "      <td>Q2_95</td>\n",
       "      <td>4936.0</td>\n",
       "    </tr>\n",
       "    <tr>\n",
       "      <th>38</th>\n",
       "      <td>Q3_95</td>\n",
       "      <td>4895.0</td>\n",
       "    </tr>\n",
       "    <tr>\n",
       "      <th>39</th>\n",
       "      <td>Q4_95</td>\n",
       "      <td>4333.0</td>\n",
       "    </tr>\n",
       "    <tr>\n",
       "      <th>40</th>\n",
       "      <td>Q1_96</td>\n",
       "      <td>4194.0</td>\n",
       "    </tr>\n",
       "    <tr>\n",
       "      <th>41</th>\n",
       "      <td>Q2_96</td>\n",
       "      <td>5253.0</td>\n",
       "    </tr>\n",
       "  </tbody>\n",
       "</table>\n",
       "</div>"
      ],
      "text/plain": [
       "   Quarter   Sales\n",
       "36   Q1_95  3854.0\n",
       "37   Q2_95  4936.0\n",
       "38   Q3_95  4895.0\n",
       "39   Q4_95  4333.0\n",
       "40   Q1_96  4194.0\n",
       "41   Q2_96  5253.0"
      ]
     },
     "execution_count": 50,
     "metadata": {},
     "output_type": "execute_result"
    }
   ],
   "source": [
    "new_data = cc_data.iloc[36:42,:2]\n",
    "new_data"
   ]
  },
  {
   "cell_type": "code",
   "execution_count": 51,
   "id": "36862b3d",
   "metadata": {
    "ExecuteTime": {
     "end_time": "2022-12-07T06:46:46.457249Z",
     "start_time": "2022-12-07T06:46:46.411972Z"
    }
   },
   "outputs": [
    {
     "name": "stdout",
     "output_type": "stream",
     "text": [
      "(36, 2)\n"
     ]
    },
    {
     "data": {
      "text/html": [
       "<div>\n",
       "<style scoped>\n",
       "    .dataframe tbody tr th:only-of-type {\n",
       "        vertical-align: middle;\n",
       "    }\n",
       "\n",
       "    .dataframe tbody tr th {\n",
       "        vertical-align: top;\n",
       "    }\n",
       "\n",
       "    .dataframe thead th {\n",
       "        text-align: right;\n",
       "    }\n",
       "</style>\n",
       "<table border=\"1\" class=\"dataframe\">\n",
       "  <thead>\n",
       "    <tr style=\"text-align: right;\">\n",
       "      <th></th>\n",
       "      <th>Quarter</th>\n",
       "      <th>Sales</th>\n",
       "    </tr>\n",
       "  </thead>\n",
       "  <tbody>\n",
       "    <tr>\n",
       "      <th>0</th>\n",
       "      <td>Q1_86</td>\n",
       "      <td>1734.827000</td>\n",
       "    </tr>\n",
       "    <tr>\n",
       "      <th>1</th>\n",
       "      <td>Q2_86</td>\n",
       "      <td>2244.960999</td>\n",
       "    </tr>\n",
       "    <tr>\n",
       "      <th>2</th>\n",
       "      <td>Q3_86</td>\n",
       "      <td>2533.804993</td>\n",
       "    </tr>\n",
       "    <tr>\n",
       "      <th>3</th>\n",
       "      <td>Q4_86</td>\n",
       "      <td>2154.962997</td>\n",
       "    </tr>\n",
       "    <tr>\n",
       "      <th>4</th>\n",
       "      <td>Q1_87</td>\n",
       "      <td>1547.818996</td>\n",
       "    </tr>\n",
       "    <tr>\n",
       "      <th>5</th>\n",
       "      <td>Q2_87</td>\n",
       "      <td>2104.411995</td>\n",
       "    </tr>\n",
       "    <tr>\n",
       "      <th>6</th>\n",
       "      <td>Q3_87</td>\n",
       "      <td>2014.362999</td>\n",
       "    </tr>\n",
       "    <tr>\n",
       "      <th>7</th>\n",
       "      <td>Q4_87</td>\n",
       "      <td>1991.746998</td>\n",
       "    </tr>\n",
       "    <tr>\n",
       "      <th>8</th>\n",
       "      <td>Q1_88</td>\n",
       "      <td>1869.049999</td>\n",
       "    </tr>\n",
       "    <tr>\n",
       "      <th>9</th>\n",
       "      <td>Q2_88</td>\n",
       "      <td>2313.631996</td>\n",
       "    </tr>\n",
       "    <tr>\n",
       "      <th>10</th>\n",
       "      <td>Q3_88</td>\n",
       "      <td>2128.320000</td>\n",
       "    </tr>\n",
       "    <tr>\n",
       "      <th>11</th>\n",
       "      <td>Q4_88</td>\n",
       "      <td>2026.828999</td>\n",
       "    </tr>\n",
       "    <tr>\n",
       "      <th>12</th>\n",
       "      <td>Q1_89</td>\n",
       "      <td>1910.603996</td>\n",
       "    </tr>\n",
       "    <tr>\n",
       "      <th>13</th>\n",
       "      <td>Q2_89</td>\n",
       "      <td>2331.164993</td>\n",
       "    </tr>\n",
       "    <tr>\n",
       "      <th>14</th>\n",
       "      <td>Q3_89</td>\n",
       "      <td>2206.549995</td>\n",
       "    </tr>\n",
       "    <tr>\n",
       "      <th>15</th>\n",
       "      <td>Q4_89</td>\n",
       "      <td>2173.967995</td>\n",
       "    </tr>\n",
       "    <tr>\n",
       "      <th>16</th>\n",
       "      <td>Q1_90</td>\n",
       "      <td>2148.278000</td>\n",
       "    </tr>\n",
       "    <tr>\n",
       "      <th>17</th>\n",
       "      <td>Q2_90</td>\n",
       "      <td>2739.307999</td>\n",
       "    </tr>\n",
       "    <tr>\n",
       "      <th>18</th>\n",
       "      <td>Q3_90</td>\n",
       "      <td>2792.753998</td>\n",
       "    </tr>\n",
       "    <tr>\n",
       "      <th>19</th>\n",
       "      <td>Q4_90</td>\n",
       "      <td>2556.009995</td>\n",
       "    </tr>\n",
       "    <tr>\n",
       "      <th>20</th>\n",
       "      <td>Q1_91</td>\n",
       "      <td>2480.973999</td>\n",
       "    </tr>\n",
       "    <tr>\n",
       "      <th>21</th>\n",
       "      <td>Q2_91</td>\n",
       "      <td>3039.522995</td>\n",
       "    </tr>\n",
       "    <tr>\n",
       "      <th>22</th>\n",
       "      <td>Q3_91</td>\n",
       "      <td>3172.115997</td>\n",
       "    </tr>\n",
       "    <tr>\n",
       "      <th>23</th>\n",
       "      <td>Q4_91</td>\n",
       "      <td>2879.000999</td>\n",
       "    </tr>\n",
       "    <tr>\n",
       "      <th>24</th>\n",
       "      <td>Q1_92</td>\n",
       "      <td>2772.000000</td>\n",
       "    </tr>\n",
       "    <tr>\n",
       "      <th>25</th>\n",
       "      <td>Q2_92</td>\n",
       "      <td>3550.000000</td>\n",
       "    </tr>\n",
       "    <tr>\n",
       "      <th>26</th>\n",
       "      <td>Q3_92</td>\n",
       "      <td>3508.000000</td>\n",
       "    </tr>\n",
       "    <tr>\n",
       "      <th>27</th>\n",
       "      <td>Q4_92</td>\n",
       "      <td>3243.859993</td>\n",
       "    </tr>\n",
       "    <tr>\n",
       "      <th>28</th>\n",
       "      <td>Q1_93</td>\n",
       "      <td>3056.000000</td>\n",
       "    </tr>\n",
       "    <tr>\n",
       "      <th>29</th>\n",
       "      <td>Q2_93</td>\n",
       "      <td>3899.000000</td>\n",
       "    </tr>\n",
       "    <tr>\n",
       "      <th>30</th>\n",
       "      <td>Q3_93</td>\n",
       "      <td>3629.000000</td>\n",
       "    </tr>\n",
       "    <tr>\n",
       "      <th>31</th>\n",
       "      <td>Q4_93</td>\n",
       "      <td>3373.000000</td>\n",
       "    </tr>\n",
       "    <tr>\n",
       "      <th>32</th>\n",
       "      <td>Q1_94</td>\n",
       "      <td>3352.000000</td>\n",
       "    </tr>\n",
       "    <tr>\n",
       "      <th>33</th>\n",
       "      <td>Q2_94</td>\n",
       "      <td>4342.000000</td>\n",
       "    </tr>\n",
       "    <tr>\n",
       "      <th>34</th>\n",
       "      <td>Q3_94</td>\n",
       "      <td>4461.000000</td>\n",
       "    </tr>\n",
       "    <tr>\n",
       "      <th>35</th>\n",
       "      <td>Q4_94</td>\n",
       "      <td>4017.000000</td>\n",
       "    </tr>\n",
       "  </tbody>\n",
       "</table>\n",
       "</div>"
      ],
      "text/plain": [
       "   Quarter        Sales\n",
       "0    Q1_86  1734.827000\n",
       "1    Q2_86  2244.960999\n",
       "2    Q3_86  2533.804993\n",
       "3    Q4_86  2154.962997\n",
       "4    Q1_87  1547.818996\n",
       "5    Q2_87  2104.411995\n",
       "6    Q3_87  2014.362999\n",
       "7    Q4_87  1991.746998\n",
       "8    Q1_88  1869.049999\n",
       "9    Q2_88  2313.631996\n",
       "10   Q3_88  2128.320000\n",
       "11   Q4_88  2026.828999\n",
       "12   Q1_89  1910.603996\n",
       "13   Q2_89  2331.164993\n",
       "14   Q3_89  2206.549995\n",
       "15   Q4_89  2173.967995\n",
       "16   Q1_90  2148.278000\n",
       "17   Q2_90  2739.307999\n",
       "18   Q3_90  2792.753998\n",
       "19   Q4_90  2556.009995\n",
       "20   Q1_91  2480.973999\n",
       "21   Q2_91  3039.522995\n",
       "22   Q3_91  3172.115997\n",
       "23   Q4_91  2879.000999\n",
       "24   Q1_92  2772.000000\n",
       "25   Q2_92  3550.000000\n",
       "26   Q3_92  3508.000000\n",
       "27   Q4_92  3243.859993\n",
       "28   Q1_93  3056.000000\n",
       "29   Q2_93  3899.000000\n",
       "30   Q3_93  3629.000000\n",
       "31   Q4_93  3373.000000\n",
       "32   Q1_94  3352.000000\n",
       "33   Q2_94  4342.000000\n",
       "34   Q3_94  4461.000000\n",
       "35   Q4_94  4017.000000"
      ]
     },
     "execution_count": 51,
     "metadata": {},
     "output_type": "execute_result"
    }
   ],
   "source": [
    "cc_data1 = cc_data.iloc[:36,:2]\n",
    "print(cc_data1.shape)\n",
    "cc_data1"
   ]
  },
  {
   "cell_type": "code",
   "execution_count": 52,
   "id": "531482ce",
   "metadata": {
    "ExecuteTime": {
     "end_time": "2022-12-07T06:46:46.901812Z",
     "start_time": "2022-12-07T06:46:46.461991Z"
    }
   },
   "outputs": [],
   "source": [
    "#picked the model with the lowest RMSE value\n",
    "#training the model on the entire dataset\n",
    "final_model = ExponentialSmoothing(cc_data1[\"Sales\"],seasonal=\"mul\",trend=\"mul\",seasonal_periods=12).fit(optimized=True)"
   ]
  },
  {
   "cell_type": "code",
   "execution_count": 53,
   "id": "65a87f0d",
   "metadata": {
    "ExecuteTime": {
     "end_time": "2022-12-07T06:46:46.933628Z",
     "start_time": "2022-12-07T06:46:46.903805Z"
    }
   },
   "outputs": [
    {
     "data": {
      "text/plain": [
       "36    3830.980495\n",
       "37    4898.643166\n",
       "38    5000.425737\n",
       "39    4643.912380\n",
       "40    4244.033027\n",
       "41    5514.186429\n",
       "dtype: float64"
      ]
     },
     "execution_count": 53,
     "metadata": {},
     "output_type": "execute_result"
    }
   ],
   "source": [
    "predicted_new = final_model.predict(start = new_data.index[0],end = new_data.index[-1])\n",
    "predicted_new"
   ]
  },
  {
   "cell_type": "code",
   "execution_count": 54,
   "id": "dd905bc1",
   "metadata": {
    "ExecuteTime": {
     "end_time": "2022-12-07T06:46:46.964947Z",
     "start_time": "2022-12-07T06:46:46.933628Z"
    }
   },
   "outputs": [],
   "source": [
    "new_data['forecasted_sales'] = predicted_new\n",
    "new_data.drop(columns='Sales',axis=1,inplace=True)"
   ]
  },
  {
   "cell_type": "code",
   "execution_count": 55,
   "id": "057b5b61",
   "metadata": {
    "ExecuteTime": {
     "end_time": "2022-12-07T06:46:46.997176Z",
     "start_time": "2022-12-07T06:46:46.971719Z"
    }
   },
   "outputs": [
    {
     "data": {
      "text/html": [
       "<div>\n",
       "<style scoped>\n",
       "    .dataframe tbody tr th:only-of-type {\n",
       "        vertical-align: middle;\n",
       "    }\n",
       "\n",
       "    .dataframe tbody tr th {\n",
       "        vertical-align: top;\n",
       "    }\n",
       "\n",
       "    .dataframe thead th {\n",
       "        text-align: right;\n",
       "    }\n",
       "</style>\n",
       "<table border=\"1\" class=\"dataframe\">\n",
       "  <thead>\n",
       "    <tr style=\"text-align: right;\">\n",
       "      <th></th>\n",
       "      <th>Quarter</th>\n",
       "      <th>forecasted_sales</th>\n",
       "    </tr>\n",
       "  </thead>\n",
       "  <tbody>\n",
       "    <tr>\n",
       "      <th>36</th>\n",
       "      <td>Q1_95</td>\n",
       "      <td>3830.980495</td>\n",
       "    </tr>\n",
       "    <tr>\n",
       "      <th>37</th>\n",
       "      <td>Q2_95</td>\n",
       "      <td>4898.643166</td>\n",
       "    </tr>\n",
       "    <tr>\n",
       "      <th>38</th>\n",
       "      <td>Q3_95</td>\n",
       "      <td>5000.425737</td>\n",
       "    </tr>\n",
       "    <tr>\n",
       "      <th>39</th>\n",
       "      <td>Q4_95</td>\n",
       "      <td>4643.912380</td>\n",
       "    </tr>\n",
       "    <tr>\n",
       "      <th>40</th>\n",
       "      <td>Q1_96</td>\n",
       "      <td>4244.033027</td>\n",
       "    </tr>\n",
       "    <tr>\n",
       "      <th>41</th>\n",
       "      <td>Q2_96</td>\n",
       "      <td>5514.186429</td>\n",
       "    </tr>\n",
       "  </tbody>\n",
       "</table>\n",
       "</div>"
      ],
      "text/plain": [
       "   Quarter  forecasted_sales\n",
       "36   Q1_95       3830.980495\n",
       "37   Q2_95       4898.643166\n",
       "38   Q3_95       5000.425737\n",
       "39   Q4_95       4643.912380\n",
       "40   Q1_96       4244.033027\n",
       "41   Q2_96       5514.186429"
      ]
     },
     "execution_count": 55,
     "metadata": {},
     "output_type": "execute_result"
    }
   ],
   "source": [
    "new_data"
   ]
  },
  {
   "cell_type": "code",
   "execution_count": 56,
   "id": "af8b876c",
   "metadata": {
    "ExecuteTime": {
     "end_time": "2022-12-07T06:46:47.472165Z",
     "start_time": "2022-12-07T06:46:47.001821Z"
    }
   },
   "outputs": [
    {
     "data": {
      "text/plain": [
       "<AxesSubplot:>"
      ]
     },
     "execution_count": 56,
     "metadata": {},
     "output_type": "execute_result"
    },
    {
     "data": {
      "image/png": "[encoded data removed]",
      "text/plain": [
       "<Figure size 432x288 with 1 Axes>"
      ]
     },
     "metadata": {},
     "output_type": "display_data"
    }
   ],
   "source": [
    "new_var = pd.concat([cc_data1,new_data])\n",
    "new_var[['Sales','forecasted_sales']].reset_index(drop=True).plot()"
   ]
  }
 ],
 "metadata": {
  "kernelspec": {
   "display_name": "Python 3 (ipykernel)",
   "language": "python",
   "name": "python3"
  },
  "language_info": {
   "codemirror_mode": {
    "name": "ipython",
    "version": 3
   },
   "file_extension": ".py",
   "mimetype": "text/x-python",
   "name": "python",
   "nbconvert_exporter": "python",
   "pygments_lexer": "ipython3",
   "version": "3.9.12"
  }
 },
 "nbformat": 4,
 "nbformat_minor": 5
}
